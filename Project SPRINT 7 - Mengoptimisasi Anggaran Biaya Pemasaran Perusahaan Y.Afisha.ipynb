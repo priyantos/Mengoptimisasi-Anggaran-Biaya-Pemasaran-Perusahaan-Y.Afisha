{
 "cells": [
  {
   "cell_type": "markdown",
   "metadata": {},
   "source": [
    "# Mengoptimisasi Anggaran Biaya Pemasaran Perusahaan Y.Afisha"
   ]
  },
  {
   "cell_type": "markdown",
   "metadata": {},
   "source": [
    "**Pendahuluan <a id='intro'></a>**\n",
    "\n",
    "   Pemasaran adalah salah satu elemen kunci dalam mengembangkan & mempertahankan keberadaan perusahaan dalam pasar yang semakin bersaing & kompetitif. Seiring dengan perubahan konstan dalam perilaku konsumen dan perkembangan teknologi, strategi pemasaran yang efektif & effisien telah menjadi semakin penting. Pada saat ini, perusahaan Y.Afisha telah memberikan kesempatan kepada saya untuk mengikuti program magang di departemen analitik mereka.\n",
    "\n",
    "   Salah satu tugas pertama yang diberikan kepada saya selama program magang ini adalah membantu dalam mengoptimalkan anggaran biaya pemasaran perusahaan. Optimisasi anggaran pemasaran merupakan langkah strategis yang krusial dalam meningkatkan efisiensi dan efektivitas upaya pemasaran. Dengan mengalokasikan sumber daya secara bijak, perusahaan dapat mencapai hasil yang lebih baik, menciptakan nilai tambah, dan meminimalkan pemborosan sumber daya.\n",
    "   \n",
    "**Tujuan <a id='destination'></a>**\n",
    "\n",
    "   Tujuan dari proyek sprint 7 ini adalah untuk mengidentifikasi, menganalisis, dan merekomendasikan cara terbaik untuk mengoptimalkan anggaran biaya pemasaran di Perusahaan Y.Afisha. Dalam laporan proyek ini, saya akan menjelaskan pendekatan yang akan diambil, metodologi yang akan digunakan, serta manfaat yang diharapkan dari implementasi strategi optimisasi anggaran ini. Laporan ini juga akan mencakup analisis awal terhadap kebijakan dan praktik pemasaran yang telah ada, serta solusi yang diusulkan untuk mencapai hasil yang lebih baik.\n",
    "\n",
    "Berikut rincian yang akan kita lewati:\n",
    "\n",
    "**Tahapan yang Dilakukan**\n",
    "\n",
    "**Langkah 1: Insialisasi**\n",
    "\n",
    "- Memanggil data library yang dibutuhkan\n",
    "\n",
    "  -# *List library yang digunakan*\n",
    "  \n",
    "     * import pandas as pd\n",
    "     * import matplotlib.pyplot as plt\n",
    "     * import seaborn as sns\n",
    "     * import numpy as np\n",
    "     * from datetime import datetime, timedelta\n",
    "     * from scipy import stats\n",
    "     * from scipy.stats import levene, shapiro, ttest_ind, mannwhitneyu\n",
    "     \n",
    "\n",
    "**Langkah 2: Memuat Dataset**\n",
    "\n",
    "**Analisis data dengan memuat dataset:** \n",
    "    \n",
    "- `/datasets/visits_log_us.csv`\n",
    "- `/datasets/orders_log_us.csv`\n",
    "- `/datasets/costs_us.csv`  \n",
    "\n",
    "   Pada tahapan ini kita akan lakukan :\n",
    "\n",
    "    1. Memuat Data dan Mempersiapkan Data\n",
    "    2. Menyusun Laporan dan Hitung Metrik-Metrik yang Diperlukan\n",
    "    3. Tuliskan Kesimpulan ke Mana Saja Uang Tersebut Harus Diinvestasikan\n",
    "\n",
    "**Langkah 3: Mempersiapkan Data dan Memanipulasi Data**\n",
    "\n",
    "**Langkah 4: Membuat Laporan dan Menghitung Metrik yang Diperlukan**\n",
    "    \n",
    "        4.1. Produk\n",
    "        4.2. Penjualan\n",
    "        4.3. Pemasaran\n",
    "\n",
    "**Langkah 5: Kesimpulan Umum**\n"
   ]
  },
  {
   "cell_type": "markdown",
   "metadata": {},
   "source": [
    "## Inisialisasi\n",
    "\n",
    "Mari kita muat library yang kita butuhkan."
   ]
  },
  {
   "cell_type": "code",
   "execution_count": 1,
   "metadata": {},
   "outputs": [],
   "source": [
    "# Muat semua library\n",
    "import pandas as pd\n",
    "import matplotlib.pyplot as plt\n",
    "import numpy as np\n",
    "import seaborn as sns\n",
    "from datetime import datetime, timedelta\n",
    "from scipy import stats\n",
    "from scipy.stats import levene,  shapiro, ttest_ind, mannwhitneyu"
   ]
  },
  {
   "cell_type": "markdown",
   "metadata": {},
   "source": [
    "## Memuat Data\n",
    "\n",
    "Berikut dataset yang akan kita analisa:"
   ]
  },
  {
   "cell_type": "code",
   "execution_count": 2,
   "metadata": {},
   "outputs": [],
   "source": [
    "# Memuat datasets\n",
    "visitslog = pd.read_csv('/datasets/visits_log_us.csv')\n",
    "orderslog = pd.read_csv('/datasets/orders_log_us.csv')\n",
    "costs_us = pd.read_csv('/datasets/costs_us.csv')"
   ]
  },
  {
   "cell_type": "markdown",
   "metadata": {},
   "source": [
    "## Mempersiapkan Data dan Memanipulasi Data\n",
    "\n",
    "* Mari kita identifikasi data serta mengetahui apa saja isi data tersebut."
   ]
  },
  {
   "cell_type": "code",
   "execution_count": 3,
   "metadata": {},
   "outputs": [
    {
     "name": "stdout",
     "output_type": "stream",
     "text": [
      "<class 'pandas.core.frame.DataFrame'>\n",
      "RangeIndex: 359400 entries, 0 to 359399\n",
      "Data columns (total 5 columns):\n",
      " #   Column     Non-Null Count   Dtype \n",
      "---  ------     --------------   ----- \n",
      " 0   Device     359400 non-null  object\n",
      " 1   End Ts     359400 non-null  object\n",
      " 2   Source Id  359400 non-null  int64 \n",
      " 3   Start Ts   359400 non-null  object\n",
      " 4   Uid        359400 non-null  uint64\n",
      "dtypes: int64(1), object(3), uint64(1)\n",
      "memory usage: 13.7+ MB\n"
     ]
    }
   ],
   "source": [
    "# Informasi dataset visitslog\n",
    "visitslog.info()"
   ]
  },
  {
   "cell_type": "markdown",
   "metadata": {},
   "source": [
    "* Device — perangkat pengguna\n",
    "* End Ts — tanggal dan waktu berakhirnya sesi\n",
    "* Source Id — ID sumber iklan, sumber yang digunakan pengguna untuk datang ke situs web\n",
    "* Start Ts — tanggal dan waktu dimulainya sesi\n",
    "* Uid — ID pengguna"
   ]
  },
  {
   "cell_type": "markdown",
   "metadata": {},
   "source": [
    "**Temuan**\n",
    "\n",
    "Tidak ada data yang hilang. Terlihat bahwa tipe data masih kurang sesuai. Selain itu kita akan merubah nama-nama kolom yang akan kita perbaiki, salah satunya yaitu mengubahnya menjadi lowercase serta mengubah cara penulisan menjadi snake_case."
   ]
  },
  {
   "cell_type": "code",
   "execution_count": 4,
   "metadata": {},
   "outputs": [],
   "source": [
    "# Merubah tipe data tanggal yang sesuai\n",
    "visitslog['Start Ts'] = pd.to_datetime(visitslog['Start Ts'])\n",
    "visitslog['End Ts'] = pd.to_datetime(visitslog['End Ts'])"
   ]
  },
  {
   "cell_type": "code",
   "execution_count": 5,
   "metadata": {},
   "outputs": [],
   "source": [
    "# Mengubah nama kolom menjadi lowercase\n",
    "visitslog.columns = visitslog.columns.str.lower()\n",
    "\n",
    "# Mengganti spasi dengan underscore (snake_case)\n",
    "visitslog.columns = visitslog.columns.str.replace(' ', '_')"
   ]
  },
  {
   "cell_type": "code",
   "execution_count": 6,
   "metadata": {},
   "outputs": [
    {
     "name": "stdout",
     "output_type": "stream",
     "text": [
      "<class 'pandas.core.frame.DataFrame'>\n",
      "RangeIndex: 359400 entries, 0 to 359399\n",
      "Data columns (total 5 columns):\n",
      " #   Column     Non-Null Count   Dtype         \n",
      "---  ------     --------------   -----         \n",
      " 0   device     359400 non-null  object        \n",
      " 1   end_ts     359400 non-null  datetime64[ns]\n",
      " 2   source_id  359400 non-null  int64         \n",
      " 3   start_ts   359400 non-null  datetime64[ns]\n",
      " 4   uid        359400 non-null  uint64        \n",
      "dtypes: datetime64[ns](2), int64(1), object(1), uint64(1)\n",
      "memory usage: 13.7+ MB\n"
     ]
    }
   ],
   "source": [
    "# Memeriksa penulisan kolom\n",
    "visitslog.info()"
   ]
  },
  {
   "cell_type": "code",
   "execution_count": 7,
   "metadata": {},
   "outputs": [
    {
     "data": {
      "text/html": [
       "<div>\n",
       "<style scoped>\n",
       "    .dataframe tbody tr th:only-of-type {\n",
       "        vertical-align: middle;\n",
       "    }\n",
       "\n",
       "    .dataframe tbody tr th {\n",
       "        vertical-align: top;\n",
       "    }\n",
       "\n",
       "    .dataframe thead th {\n",
       "        text-align: right;\n",
       "    }\n",
       "</style>\n",
       "<table border=\"1\" class=\"dataframe\">\n",
       "  <thead>\n",
       "    <tr style=\"text-align: right;\">\n",
       "      <th></th>\n",
       "      <th>device</th>\n",
       "      <th>end_ts</th>\n",
       "      <th>source_id</th>\n",
       "      <th>start_ts</th>\n",
       "      <th>uid</th>\n",
       "    </tr>\n",
       "  </thead>\n",
       "  <tbody>\n",
       "    <tr>\n",
       "      <th>0</th>\n",
       "      <td>touch</td>\n",
       "      <td>2017-12-20 17:38:00</td>\n",
       "      <td>4</td>\n",
       "      <td>2017-12-20 17:20:00</td>\n",
       "      <td>16879256277535980062</td>\n",
       "    </tr>\n",
       "    <tr>\n",
       "      <th>1</th>\n",
       "      <td>desktop</td>\n",
       "      <td>2018-02-19 17:21:00</td>\n",
       "      <td>2</td>\n",
       "      <td>2018-02-19 16:53:00</td>\n",
       "      <td>104060357244891740</td>\n",
       "    </tr>\n",
       "    <tr>\n",
       "      <th>2</th>\n",
       "      <td>touch</td>\n",
       "      <td>2017-07-01 01:54:00</td>\n",
       "      <td>5</td>\n",
       "      <td>2017-07-01 01:54:00</td>\n",
       "      <td>7459035603376831527</td>\n",
       "    </tr>\n",
       "    <tr>\n",
       "      <th>3</th>\n",
       "      <td>desktop</td>\n",
       "      <td>2018-05-20 11:23:00</td>\n",
       "      <td>9</td>\n",
       "      <td>2018-05-20 10:59:00</td>\n",
       "      <td>16174680259334210214</td>\n",
       "    </tr>\n",
       "    <tr>\n",
       "      <th>4</th>\n",
       "      <td>desktop</td>\n",
       "      <td>2017-12-27 14:06:00</td>\n",
       "      <td>3</td>\n",
       "      <td>2017-12-27 14:06:00</td>\n",
       "      <td>9969694820036681168</td>\n",
       "    </tr>\n",
       "    <tr>\n",
       "      <th>5</th>\n",
       "      <td>desktop</td>\n",
       "      <td>2017-09-03 21:36:00</td>\n",
       "      <td>5</td>\n",
       "      <td>2017-09-03 21:35:00</td>\n",
       "      <td>16007536194108375387</td>\n",
       "    </tr>\n",
       "    <tr>\n",
       "      <th>6</th>\n",
       "      <td>desktop</td>\n",
       "      <td>2018-01-30 12:09:00</td>\n",
       "      <td>1</td>\n",
       "      <td>2018-01-30 11:13:00</td>\n",
       "      <td>6661610529277171451</td>\n",
       "    </tr>\n",
       "    <tr>\n",
       "      <th>7</th>\n",
       "      <td>touch</td>\n",
       "      <td>2017-11-05 15:15:00</td>\n",
       "      <td>3</td>\n",
       "      <td>2017-11-05 15:14:00</td>\n",
       "      <td>11423865690854540312</td>\n",
       "    </tr>\n",
       "    <tr>\n",
       "      <th>8</th>\n",
       "      <td>desktop</td>\n",
       "      <td>2017-07-19 10:44:00</td>\n",
       "      <td>3</td>\n",
       "      <td>2017-07-19 10:41:00</td>\n",
       "      <td>2987360259350925644</td>\n",
       "    </tr>\n",
       "    <tr>\n",
       "      <th>9</th>\n",
       "      <td>desktop</td>\n",
       "      <td>2017-11-08 13:43:00</td>\n",
       "      <td>5</td>\n",
       "      <td>2017-11-08 13:42:00</td>\n",
       "      <td>1289240080042562063</td>\n",
       "    </tr>\n",
       "  </tbody>\n",
       "</table>\n",
       "</div>"
      ],
      "text/plain": [
       "    device              end_ts  source_id            start_ts  \\\n",
       "0    touch 2017-12-20 17:38:00          4 2017-12-20 17:20:00   \n",
       "1  desktop 2018-02-19 17:21:00          2 2018-02-19 16:53:00   \n",
       "2    touch 2017-07-01 01:54:00          5 2017-07-01 01:54:00   \n",
       "3  desktop 2018-05-20 11:23:00          9 2018-05-20 10:59:00   \n",
       "4  desktop 2017-12-27 14:06:00          3 2017-12-27 14:06:00   \n",
       "5  desktop 2017-09-03 21:36:00          5 2017-09-03 21:35:00   \n",
       "6  desktop 2018-01-30 12:09:00          1 2018-01-30 11:13:00   \n",
       "7    touch 2017-11-05 15:15:00          3 2017-11-05 15:14:00   \n",
       "8  desktop 2017-07-19 10:44:00          3 2017-07-19 10:41:00   \n",
       "9  desktop 2017-11-08 13:43:00          5 2017-11-08 13:42:00   \n",
       "\n",
       "                    uid  \n",
       "0  16879256277535980062  \n",
       "1    104060357244891740  \n",
       "2   7459035603376831527  \n",
       "3  16174680259334210214  \n",
       "4   9969694820036681168  \n",
       "5  16007536194108375387  \n",
       "6   6661610529277171451  \n",
       "7  11423865690854540312  \n",
       "8   2987360259350925644  \n",
       "9   1289240080042562063  "
      ]
     },
     "execution_count": 7,
     "metadata": {},
     "output_type": "execute_result"
    }
   ],
   "source": [
    "# Melihat isi dataset visitslog\n",
    "visitslog.head(10)"
   ]
  },
  {
   "cell_type": "code",
   "execution_count": 8,
   "metadata": {},
   "outputs": [
    {
     "name": "stdout",
     "output_type": "stream",
     "text": [
      "<class 'pandas.core.frame.DataFrame'>\n",
      "RangeIndex: 50415 entries, 0 to 50414\n",
      "Data columns (total 3 columns):\n",
      " #   Column   Non-Null Count  Dtype  \n",
      "---  ------   --------------  -----  \n",
      " 0   Buy Ts   50415 non-null  object \n",
      " 1   Revenue  50415 non-null  float64\n",
      " 2   Uid      50415 non-null  uint64 \n",
      "dtypes: float64(1), object(1), uint64(1)\n",
      "memory usage: 1.2+ MB\n"
     ]
    }
   ],
   "source": [
    "# Informasi dataset orderslog\n",
    "orderslog.info()"
   ]
  },
  {
   "cell_type": "markdown",
   "metadata": {},
   "source": [
    "* Buy Ts — tanggal dan waktu pesanan dibuat\n",
    "* Revenue — pendapatan Y.Afisha dari pesanan tersebut\n",
    "* Uid — ID pengguna yang membuat pesanan"
   ]
  },
  {
   "cell_type": "markdown",
   "metadata": {},
   "source": [
    "**Temuan**\n",
    "\n",
    "Tidak ada data yang hilang. Terlihat bahwa tipe data masih kurang sesuai. Selain itu kita akan merubah nama-nama kolom yang akan kita perbaiki, salah satunya yaitu mengubahnya menjadi lowercase serta mengubah cara penulisan menjadi snake_case."
   ]
  },
  {
   "cell_type": "code",
   "execution_count": 9,
   "metadata": {},
   "outputs": [],
   "source": [
    "# Mengubah tipe data tanggal yang sesuai\n",
    "orderslog['Buy Ts'] = pd.to_datetime(orderslog['Buy Ts'])"
   ]
  },
  {
   "cell_type": "code",
   "execution_count": 10,
   "metadata": {},
   "outputs": [],
   "source": [
    "# Mengubah nama kolom menjadi lowercase\n",
    "orderslog.columns = orderslog.columns.str.lower()\n",
    "\n",
    "# Mengganti spasi dengan underscore (snake_case)\n",
    "orderslog.columns = orderslog.columns.str.replace(' ', '_')"
   ]
  },
  {
   "cell_type": "code",
   "execution_count": 11,
   "metadata": {},
   "outputs": [
    {
     "name": "stdout",
     "output_type": "stream",
     "text": [
      "<class 'pandas.core.frame.DataFrame'>\n",
      "RangeIndex: 50415 entries, 0 to 50414\n",
      "Data columns (total 3 columns):\n",
      " #   Column   Non-Null Count  Dtype         \n",
      "---  ------   --------------  -----         \n",
      " 0   buy_ts   50415 non-null  datetime64[ns]\n",
      " 1   revenue  50415 non-null  float64       \n",
      " 2   uid      50415 non-null  uint64        \n",
      "dtypes: datetime64[ns](1), float64(1), uint64(1)\n",
      "memory usage: 1.2 MB\n"
     ]
    }
   ],
   "source": [
    "# Informasi dataset orderslog\n",
    "orderslog.info()"
   ]
  },
  {
   "cell_type": "code",
   "execution_count": 12,
   "metadata": {},
   "outputs": [
    {
     "data": {
      "text/html": [
       "<div>\n",
       "<style scoped>\n",
       "    .dataframe tbody tr th:only-of-type {\n",
       "        vertical-align: middle;\n",
       "    }\n",
       "\n",
       "    .dataframe tbody tr th {\n",
       "        vertical-align: top;\n",
       "    }\n",
       "\n",
       "    .dataframe thead th {\n",
       "        text-align: right;\n",
       "    }\n",
       "</style>\n",
       "<table border=\"1\" class=\"dataframe\">\n",
       "  <thead>\n",
       "    <tr style=\"text-align: right;\">\n",
       "      <th></th>\n",
       "      <th>buy_ts</th>\n",
       "      <th>revenue</th>\n",
       "      <th>uid</th>\n",
       "    </tr>\n",
       "  </thead>\n",
       "  <tbody>\n",
       "    <tr>\n",
       "      <th>0</th>\n",
       "      <td>2017-06-01 00:10:00</td>\n",
       "      <td>17.00</td>\n",
       "      <td>10329302124590727494</td>\n",
       "    </tr>\n",
       "    <tr>\n",
       "      <th>1</th>\n",
       "      <td>2017-06-01 00:25:00</td>\n",
       "      <td>0.55</td>\n",
       "      <td>11627257723692907447</td>\n",
       "    </tr>\n",
       "    <tr>\n",
       "      <th>2</th>\n",
       "      <td>2017-06-01 00:27:00</td>\n",
       "      <td>0.37</td>\n",
       "      <td>17903680561304213844</td>\n",
       "    </tr>\n",
       "    <tr>\n",
       "      <th>3</th>\n",
       "      <td>2017-06-01 00:29:00</td>\n",
       "      <td>0.55</td>\n",
       "      <td>16109239769442553005</td>\n",
       "    </tr>\n",
       "    <tr>\n",
       "      <th>4</th>\n",
       "      <td>2017-06-01 07:58:00</td>\n",
       "      <td>0.37</td>\n",
       "      <td>14200605875248379450</td>\n",
       "    </tr>\n",
       "    <tr>\n",
       "      <th>5</th>\n",
       "      <td>2017-06-01 08:43:00</td>\n",
       "      <td>0.18</td>\n",
       "      <td>10402394430196413321</td>\n",
       "    </tr>\n",
       "    <tr>\n",
       "      <th>6</th>\n",
       "      <td>2017-06-01 08:54:00</td>\n",
       "      <td>1.83</td>\n",
       "      <td>12464626743129688638</td>\n",
       "    </tr>\n",
       "    <tr>\n",
       "      <th>7</th>\n",
       "      <td>2017-06-01 09:22:00</td>\n",
       "      <td>1.22</td>\n",
       "      <td>3644482766749211722</td>\n",
       "    </tr>\n",
       "    <tr>\n",
       "      <th>8</th>\n",
       "      <td>2017-06-01 09:22:00</td>\n",
       "      <td>3.30</td>\n",
       "      <td>17542070709969841479</td>\n",
       "    </tr>\n",
       "    <tr>\n",
       "      <th>9</th>\n",
       "      <td>2017-06-01 09:23:00</td>\n",
       "      <td>0.37</td>\n",
       "      <td>1074355127080856382</td>\n",
       "    </tr>\n",
       "  </tbody>\n",
       "</table>\n",
       "</div>"
      ],
      "text/plain": [
       "               buy_ts  revenue                   uid\n",
       "0 2017-06-01 00:10:00    17.00  10329302124590727494\n",
       "1 2017-06-01 00:25:00     0.55  11627257723692907447\n",
       "2 2017-06-01 00:27:00     0.37  17903680561304213844\n",
       "3 2017-06-01 00:29:00     0.55  16109239769442553005\n",
       "4 2017-06-01 07:58:00     0.37  14200605875248379450\n",
       "5 2017-06-01 08:43:00     0.18  10402394430196413321\n",
       "6 2017-06-01 08:54:00     1.83  12464626743129688638\n",
       "7 2017-06-01 09:22:00     1.22   3644482766749211722\n",
       "8 2017-06-01 09:22:00     3.30  17542070709969841479\n",
       "9 2017-06-01 09:23:00     0.37   1074355127080856382"
      ]
     },
     "execution_count": 12,
     "metadata": {},
     "output_type": "execute_result"
    }
   ],
   "source": [
    "# Melihat isi dataset orderslog\n",
    "orderslog.head(10)"
   ]
  },
  {
   "cell_type": "code",
   "execution_count": 13,
   "metadata": {},
   "outputs": [
    {
     "name": "stdout",
     "output_type": "stream",
     "text": [
      "<class 'pandas.core.frame.DataFrame'>\n",
      "RangeIndex: 2542 entries, 0 to 2541\n",
      "Data columns (total 3 columns):\n",
      " #   Column     Non-Null Count  Dtype  \n",
      "---  ------     --------------  -----  \n",
      " 0   source_id  2542 non-null   int64  \n",
      " 1   dt         2542 non-null   object \n",
      " 2   costs      2542 non-null   float64\n",
      "dtypes: float64(1), int64(1), object(1)\n",
      "memory usage: 59.7+ KB\n"
     ]
    }
   ],
   "source": [
    "# Informasi dataset costs_us\n",
    "costs_us.info()"
   ]
  },
  {
   "cell_type": "markdown",
   "metadata": {},
   "source": [
    "* source_id — ID sumber iklan\n",
    "* dt — tanggal\n",
    "* costs — pengeluaran untuk sumber iklan pada tanggal tersebut"
   ]
  },
  {
   "cell_type": "markdown",
   "metadata": {},
   "source": [
    "**Temuan**\n",
    "\n",
    "Tidak ada data yang hilang. Dari dataset tersebut, kita bisa melihat bahwa penulisan kolom sudah tepat. Kita hanya mengubah tipe data pada kolom dt ke datetime"
   ]
  },
  {
   "cell_type": "code",
   "execution_count": 14,
   "metadata": {},
   "outputs": [],
   "source": [
    "# Mengubah tipe data pada kolom dt ke datetim\n",
    "costs_us['dt'] = pd.to_datetime(costs_us['dt'])"
   ]
  },
  {
   "cell_type": "code",
   "execution_count": 15,
   "metadata": {},
   "outputs": [
    {
     "name": "stdout",
     "output_type": "stream",
     "text": [
      "<class 'pandas.core.frame.DataFrame'>\n",
      "RangeIndex: 2542 entries, 0 to 2541\n",
      "Data columns (total 3 columns):\n",
      " #   Column     Non-Null Count  Dtype         \n",
      "---  ------     --------------  -----         \n",
      " 0   source_id  2542 non-null   int64         \n",
      " 1   dt         2542 non-null   datetime64[ns]\n",
      " 2   costs      2542 non-null   float64       \n",
      "dtypes: datetime64[ns](1), float64(1), int64(1)\n",
      "memory usage: 59.7 KB\n"
     ]
    }
   ],
   "source": [
    "# Memeriksa hasil perubahan tipe data\n",
    "costs_us.info()"
   ]
  },
  {
   "cell_type": "code",
   "execution_count": 16,
   "metadata": {},
   "outputs": [
    {
     "data": {
      "text/html": [
       "<div>\n",
       "<style scoped>\n",
       "    .dataframe tbody tr th:only-of-type {\n",
       "        vertical-align: middle;\n",
       "    }\n",
       "\n",
       "    .dataframe tbody tr th {\n",
       "        vertical-align: top;\n",
       "    }\n",
       "\n",
       "    .dataframe thead th {\n",
       "        text-align: right;\n",
       "    }\n",
       "</style>\n",
       "<table border=\"1\" class=\"dataframe\">\n",
       "  <thead>\n",
       "    <tr style=\"text-align: right;\">\n",
       "      <th></th>\n",
       "      <th>source_id</th>\n",
       "      <th>dt</th>\n",
       "      <th>costs</th>\n",
       "    </tr>\n",
       "  </thead>\n",
       "  <tbody>\n",
       "    <tr>\n",
       "      <th>0</th>\n",
       "      <td>1</td>\n",
       "      <td>2017-06-01</td>\n",
       "      <td>75.20</td>\n",
       "    </tr>\n",
       "    <tr>\n",
       "      <th>1</th>\n",
       "      <td>1</td>\n",
       "      <td>2017-06-02</td>\n",
       "      <td>62.25</td>\n",
       "    </tr>\n",
       "    <tr>\n",
       "      <th>2</th>\n",
       "      <td>1</td>\n",
       "      <td>2017-06-03</td>\n",
       "      <td>36.53</td>\n",
       "    </tr>\n",
       "    <tr>\n",
       "      <th>3</th>\n",
       "      <td>1</td>\n",
       "      <td>2017-06-04</td>\n",
       "      <td>55.00</td>\n",
       "    </tr>\n",
       "    <tr>\n",
       "      <th>4</th>\n",
       "      <td>1</td>\n",
       "      <td>2017-06-05</td>\n",
       "      <td>57.08</td>\n",
       "    </tr>\n",
       "    <tr>\n",
       "      <th>5</th>\n",
       "      <td>1</td>\n",
       "      <td>2017-06-06</td>\n",
       "      <td>40.39</td>\n",
       "    </tr>\n",
       "    <tr>\n",
       "      <th>6</th>\n",
       "      <td>1</td>\n",
       "      <td>2017-06-07</td>\n",
       "      <td>40.59</td>\n",
       "    </tr>\n",
       "    <tr>\n",
       "      <th>7</th>\n",
       "      <td>1</td>\n",
       "      <td>2017-06-08</td>\n",
       "      <td>56.63</td>\n",
       "    </tr>\n",
       "    <tr>\n",
       "      <th>8</th>\n",
       "      <td>1</td>\n",
       "      <td>2017-06-09</td>\n",
       "      <td>40.16</td>\n",
       "    </tr>\n",
       "    <tr>\n",
       "      <th>9</th>\n",
       "      <td>1</td>\n",
       "      <td>2017-06-10</td>\n",
       "      <td>43.24</td>\n",
       "    </tr>\n",
       "  </tbody>\n",
       "</table>\n",
       "</div>"
      ],
      "text/plain": [
       "   source_id         dt  costs\n",
       "0          1 2017-06-01  75.20\n",
       "1          1 2017-06-02  62.25\n",
       "2          1 2017-06-03  36.53\n",
       "3          1 2017-06-04  55.00\n",
       "4          1 2017-06-05  57.08\n",
       "5          1 2017-06-06  40.39\n",
       "6          1 2017-06-07  40.59\n",
       "7          1 2017-06-08  56.63\n",
       "8          1 2017-06-09  40.16\n",
       "9          1 2017-06-10  43.24"
      ]
     },
     "execution_count": 16,
     "metadata": {},
     "output_type": "execute_result"
    }
   ],
   "source": [
    "costs_us.head(10)"
   ]
  },
  {
   "cell_type": "markdown",
   "metadata": {},
   "source": [
    "**Kesimpulan Sementara**\n",
    "\n",
    "Beberapa tipe data dan penulisan kolom dan tipe data harus kita ubah agar mudah untuk dipanggil dan berjaga-jaga agar kita tidak harus memeriksa ulang/implementasi ulang untuk kepentingan analisis."
   ]
  },
  {
   "cell_type": "markdown",
   "metadata": {},
   "source": [
    "## Membuat Laporan dan Menghitung Metrik yang Diperlukan\n",
    "\n",
    "* Beberapa hal mencakup diantaranya :\n",
    "  \n",
    "  - 4.1. Produk \n",
    "  - 4.2. Penjualan \n",
    "  - 4.3. Pemasaran "
   ]
  },
  {
   "cell_type": "markdown",
   "metadata": {},
   "source": [
    " *  **4.1. Produk**\n",
    " \n",
    " *    Pembuatan laporan dan Perhitungan Metrik\n",
    " \n",
    "      Menghitung jumlah orang yang menggunakan produk selama per hari, per minggu dan per bulan."
   ]
  },
  {
   "cell_type": "code",
   "execution_count": 17,
   "metadata": {
    "collapsed": true
   },
   "outputs": [
    {
     "name": "stdout",
     "output_type": "stream",
     "text": [
      "Jumlah pengguna unik per hari:\n",
      "start_ts\n",
      "2017-06-01     605\n",
      "2017-06-02     608\n",
      "2017-06-03     445\n",
      "2017-06-04     476\n",
      "2017-06-05     820\n",
      "              ... \n",
      "2018-05-27     620\n",
      "2018-05-28    1039\n",
      "2018-05-29     948\n",
      "2018-05-30    1289\n",
      "2018-05-31    1997\n",
      "Name: uid, Length: 364, dtype: int64\n",
      "\n",
      "Jumlah pengguna unik per minggu:\n",
      "week\n",
      "1      6918\n",
      "2      6703\n",
      "3      6972\n",
      "4      7060\n",
      "5      8111\n",
      "6      7908\n",
      "7      7759\n",
      "8      7518\n",
      "9      7395\n",
      "10     6844\n",
      "11     6225\n",
      "12     7898\n",
      "13     4940\n",
      "14     5383\n",
      "15     5494\n",
      "16     5740\n",
      "17     5503\n",
      "18     3916\n",
      "19     4128\n",
      "20     5070\n",
      "21     4995\n",
      "22     6867\n",
      "23     4129\n",
      "24     2812\n",
      "25     2878\n",
      "26     3064\n",
      "27     3294\n",
      "28     4355\n",
      "29     3841\n",
      "30     2655\n",
      "31     2364\n",
      "32     2444\n",
      "33     2746\n",
      "34     3116\n",
      "35     3694\n",
      "36     4412\n",
      "37     4319\n",
      "38     4874\n",
      "39     6241\n",
      "40     7612\n",
      "41     7074\n",
      "42     7148\n",
      "43     7401\n",
      "44     7480\n",
      "45     7179\n",
      "46     8117\n",
      "47    10586\n",
      "48     8166\n",
      "49     8407\n",
      "50     8214\n",
      "51     7172\n",
      "52     7774\n",
      "Name: uid, dtype: int64\n",
      "\n",
      "Jumlah pengguna unik per bulan:\n",
      "start_ts\n",
      "1     28716\n",
      "2     28749\n",
      "3     27473\n",
      "4     21008\n",
      "5     20701\n",
      "6     13259\n",
      "7     14183\n",
      "8     11631\n",
      "9     18975\n",
      "10    29692\n",
      "11    32797\n",
      "12    31557\n",
      "Name: uid, dtype: int64\n"
     ]
    }
   ],
   "source": [
    "# Menghitung jumlah pengguna unik per hari, minggu, dan bulan\n",
    "daily_users = visitslog['uid'].groupby(visitslog['start_ts'].dt.date).nunique()\n",
    "weekly_users = visitslog['uid'].groupby(visitslog['start_ts'].dt.isocalendar().week).nunique()\n",
    "monthly_users = visitslog['uid'].groupby(visitslog['start_ts'].dt.month).nunique()\n",
    "\n",
    "# Menampilkan hasil\n",
    "print(\"Jumlah pengguna unik per hari:\")\n",
    "print(daily_users)\n",
    "\n",
    "print(\"\\nJumlah pengguna unik per minggu:\")\n",
    "print(weekly_users)\n",
    "\n",
    "print(\"\\nJumlah pengguna unik per bulan:\")\n",
    "print(monthly_users)"
   ]
  },
  {
   "cell_type": "markdown",
   "metadata": {},
   "source": [
    "* Membuat visualisasi untuk 10 teratas dan 10 terbawah agar lebih mudah dipahami"
   ]
  },
  {
   "cell_type": "code",
   "execution_count": 18,
   "metadata": {},
   "outputs": [
    {
     "data": {
      "image/png": "[encoded data removed]",
      "text/plain": [
       "<Figure size 864x432 with 3 Axes>"
      ]
     },
     "metadata": {
      "needs_background": "light"
     },
     "output_type": "display_data"
    }
   ],
   "source": [
    "# 10 data tertinggi\n",
    "top_10_day_largest = daily_users.nlargest(10)\n",
    "top_10_week_largest = weekly_users.nlargest(10)\n",
    "top_10_month_largest = monthly_users.nlargest(10)\n",
    "\n",
    "# Membuat visualisasi\n",
    "plt.figure(figsize=(12, 6))\n",
    "\n",
    "# Visualisasi harian \n",
    "plt.subplot(131)\n",
    "colors_day = sns.color_palette(\"coolwarm\", len(top_10_day_largest))\n",
    "top_10_day_largest.sort_values().plot(kind='barh', title='10 Pengguna Unik per Hari Terendah', color=colors_day)\n",
    "plt.ylabel('Tanggal')\n",
    "plt.xlabel('Jumlah Pengguna Unik')\n",
    "\n",
    "# Visualisasi mingguan\n",
    "plt.subplot(132)\n",
    "colors_week = sns.color_palette(\"flare\", len(top_10_week_largest))\n",
    "top_10_week_largest.sort_values().plot(kind='barh', title='10 Pengguna Unik per Minggu Tertinggi', color=colors_week)\n",
    "plt.ylabel('Minggu')\n",
    "plt.xlabel('Jumlah Pengguna Unik')\n",
    "\n",
    "# Visualisasi bulanan \n",
    "plt.subplot(133)\n",
    "colors_month = sns.color_palette(\"crest\", len(top_10_month_largest))\n",
    "top_10_month_largest.sort_values().plot(kind='barh', title='10 Pengguna Unik per Bulan Tertinggi', color=colors_month)\n",
    "plt.ylabel('Bulan')\n",
    "plt.xlabel('Jumlah Pengguna Unik')\n",
    "\n",
    "plt.tight_layout()\n",
    "plt.show()"
   ]
  },
  {
   "cell_type": "markdown",
   "metadata": {},
   "source": [
    "**Kesimpulan Sementara**\n",
    "\n",
    "Puncak pengguna unik pada yang tertinggi berada di tanggal 24. Untuk pengguna unik mingguan, pada minggu ke 47 merupakan puncak tertinggi. Untuk pengguna bulanan, puncak jumlah pengguna unik berada di bulan 11."
   ]
  },
  {
   "cell_type": "code",
   "execution_count": 19,
   "metadata": {},
   "outputs": [
    {
     "data": {
      "image/png": "[encoded data removed]",
      "text/plain": [
       "<Figure size 864x432 with 3 Axes>"
      ]
     },
     "metadata": {
      "needs_background": "light"
     },
     "output_type": "display_data"
    }
   ],
   "source": [
    "# 10 data terbawah \n",
    "top_10_day_smallest = daily_users.nsmallest(10)\n",
    "top_10_week_smallest = weekly_users.nsmallest(10)\n",
    "top_10_month_smallest = monthly_users.nsmallest(10)\n",
    "\n",
    "# Membuat visualisasi\n",
    "plt.figure(figsize=(12, 6))\n",
    "\n",
    "# Visualisasi harian \n",
    "plt.subplot(131)\n",
    "colors_day = sns.color_palette(\"coolwarm\", len(top_10_day_smallest))\n",
    "top_10_day_smallest.plot(kind='barh', title='10 Pengguna Unik per Hari Terendah', color=colors_day)\n",
    "plt.ylabel('Tanggal')\n",
    "plt.xlabel('Jumlah Pengguna Unik')\n",
    "\n",
    "# Visualisasi mingguan\n",
    "plt.subplot(132)\n",
    "colors_week = sns.color_palette(\"flare\", len(top_10_week_smallest))\n",
    "top_10_week_smallest.plot(kind='barh', title='10 Pengguna Unik per Minggu Terendah', color=colors_week)\n",
    "plt.ylabel('Minggu')\n",
    "plt.xlabel('Jumlah Pengguna Unik')\n",
    "\n",
    "# Visualisasi bulanan \n",
    "plt.subplot(133)\n",
    "colors_month = sns.color_palette(\"crest\", len(top_10_month_smallest))\n",
    "top_10_month_smallest.plot(kind='barh', title='10 Pengguna Unik per Bulan Terendah', color=colors_month)\n",
    "plt.ylabel('Bulan')\n",
    "plt.xlabel('Jumlah Pengguna Unik')\n",
    "\n",
    "plt.tight_layout()\n",
    "plt.show()"
   ]
  },
  {
   "cell_type": "markdown",
   "metadata": {},
   "source": [
    "**Kesimpulan Sementara**\n",
    "\n",
    "Untuk kategori terendah, pada bagian hari, tanggal 31 bulan 03 tidak ada pengguna sama sekali. Pada bagian mingguan, tepat di minggu ke 31 pengguna mencapai kurang dari 3000. Pada bagian bulanan tepat di bulan 8, pengguna mencapai dibawah 20000"
   ]
  },
  {
   "cell_type": "markdown",
   "metadata": {},
   "source": [
    "      Berapa Jumlah Sesi per Harinya? (satu pengguna mungkin saja memiliki lebih dari satu sesi).\n",
    "* Kita akan kelompokan sesi per hari dan menghitung jumlah sesi per hari."
   ]
  },
  {
   "cell_type": "code",
   "execution_count": 20,
   "metadata": {
    "scrolled": true
   },
   "outputs": [
    {
     "data": {
      "text/html": [
       "<div>\n",
       "<style scoped>\n",
       "    .dataframe tbody tr th:only-of-type {\n",
       "        vertical-align: middle;\n",
       "    }\n",
       "\n",
       "    .dataframe tbody tr th {\n",
       "        vertical-align: top;\n",
       "    }\n",
       "\n",
       "    .dataframe thead th {\n",
       "        text-align: right;\n",
       "    }\n",
       "</style>\n",
       "<table border=\"1\" class=\"dataframe\">\n",
       "  <thead>\n",
       "    <tr style=\"text-align: right;\">\n",
       "      <th></th>\n",
       "      <th>Date</th>\n",
       "      <th>Session Count</th>\n",
       "    </tr>\n",
       "  </thead>\n",
       "  <tbody>\n",
       "    <tr>\n",
       "      <th>0</th>\n",
       "      <td>2017-06-01</td>\n",
       "      <td>664</td>\n",
       "    </tr>\n",
       "    <tr>\n",
       "      <th>1</th>\n",
       "      <td>2017-06-02</td>\n",
       "      <td>658</td>\n",
       "    </tr>\n",
       "    <tr>\n",
       "      <th>2</th>\n",
       "      <td>2017-06-03</td>\n",
       "      <td>477</td>\n",
       "    </tr>\n",
       "    <tr>\n",
       "      <th>3</th>\n",
       "      <td>2017-06-04</td>\n",
       "      <td>510</td>\n",
       "    </tr>\n",
       "    <tr>\n",
       "      <th>4</th>\n",
       "      <td>2017-06-05</td>\n",
       "      <td>893</td>\n",
       "    </tr>\n",
       "    <tr>\n",
       "      <th>...</th>\n",
       "      <td>...</td>\n",
       "      <td>...</td>\n",
       "    </tr>\n",
       "    <tr>\n",
       "      <th>359</th>\n",
       "      <td>2018-05-27</td>\n",
       "      <td>672</td>\n",
       "    </tr>\n",
       "    <tr>\n",
       "      <th>360</th>\n",
       "      <td>2018-05-28</td>\n",
       "      <td>1156</td>\n",
       "    </tr>\n",
       "    <tr>\n",
       "      <th>361</th>\n",
       "      <td>2018-05-29</td>\n",
       "      <td>1035</td>\n",
       "    </tr>\n",
       "    <tr>\n",
       "      <th>362</th>\n",
       "      <td>2018-05-30</td>\n",
       "      <td>1410</td>\n",
       "    </tr>\n",
       "    <tr>\n",
       "      <th>363</th>\n",
       "      <td>2018-05-31</td>\n",
       "      <td>2256</td>\n",
       "    </tr>\n",
       "  </tbody>\n",
       "</table>\n",
       "<p>364 rows × 2 columns</p>\n",
       "</div>"
      ],
      "text/plain": [
       "           Date  Session Count\n",
       "0    2017-06-01            664\n",
       "1    2017-06-02            658\n",
       "2    2017-06-03            477\n",
       "3    2017-06-04            510\n",
       "4    2017-06-05            893\n",
       "..          ...            ...\n",
       "359  2018-05-27            672\n",
       "360  2018-05-28           1156\n",
       "361  2018-05-29           1035\n",
       "362  2018-05-30           1410\n",
       "363  2018-05-31           2256\n",
       "\n",
       "[364 rows x 2 columns]"
      ]
     },
     "execution_count": 20,
     "metadata": {},
     "output_type": "execute_result"
    }
   ],
   "source": [
    "# Mengelompokkan sesi per hari dan menghitung jumlah sesi per hari\n",
    "per_day_sessions = visitslog.groupby(visitslog['start_ts'].dt.date)['uid'].count().reset_index()\n",
    "\n",
    "# Membuat DataFrame baru dengan nama kolom yang lebih deskriptif\n",
    "sessions_df = pd.DataFrame({'Date': per_day_sessions['start_ts'], 'Session Count': per_day_sessions['uid']})\n",
    "\n",
    "# Menampilkan DataFrame baru\n",
    "sessions_df"
   ]
  },
  {
   "cell_type": "markdown",
   "metadata": {},
   "source": [
    "**Mari kita tampilkan visualisasi dari sessions_per_day dengan dataframe baru yaitu df_sessions. Kita akan mengambil 10 sample tertinggi dan 10 sample terendah.**"
   ]
  },
  {
   "cell_type": "code",
   "execution_count": 21,
   "metadata": {
    "scrolled": true
   },
   "outputs": [
    {
     "data": {
      "image/png": "[encoded data removed]",
      "text/plain": [
       "<Figure size 864x432 with 1 Axes>"
      ]
     },
     "metadata": {
      "needs_background": "light"
     },
     "output_type": "display_data"
    }
   ],
   "source": [
    "# 10 sesi per hari dari yang tertinggi\n",
    "top_10_sessions_largest = sessions_df.nlargest(10, 'Session Count')\n",
    "\n",
    "# Membuat visualisasi\n",
    "plt.figure(figsize=(12, 6))\n",
    "colors = sns.color_palette(\"coolwarm\", len(top_10_sessions_largest))\n",
    "sns.barplot(x='Session Count', y='Date', data=top_10_sessions_largest, palette=colors)\n",
    "plt.title('Jumlah Sesi per Hari')\n",
    "plt.xlabel('Jumlah Sesi')\n",
    "plt.ylabel('Tanggal')\n",
    "\n",
    "# Memutar label tanggal agar tidak tumpang tindih\n",
    "plt.xticks(rotation=45)\n",
    "\n",
    "plt.tight_layout()\n",
    "plt.show()"
   ]
  },
  {
   "cell_type": "markdown",
   "metadata": {},
   "source": [
    "**Kesimpulan Sementara**\n",
    "\n",
    "Pada tanggal 24 bulan 11 tahun 2017, pengguna tertinggi mencapai lebih dari 4000."
   ]
  },
  {
   "cell_type": "code",
   "execution_count": 22,
   "metadata": {},
   "outputs": [
    {
     "data": {
      "image/png": "[encoded data removed]",
      "text/plain": [
       "<Figure size 864x432 with 1 Axes>"
      ]
     },
     "metadata": {
      "needs_background": "light"
     },
     "output_type": "display_data"
    }
   ],
   "source": [
    "# 10 sesi per hari dari yang terendah\n",
    "top_10_sessions_smallest = sessions_df.nsmallest(10, 'Session Count')\n",
    "# Membuat visualisasi\n",
    "plt.figure(figsize=(12, 6))\n",
    "colors = sns.color_palette(\"coolwarm\", len(top_10_sessions_smallest))\n",
    "sns.barplot(x='Session Count', y='Date', data=top_10_sessions_smallest, palette=colors)\n",
    "plt.title('Jumlah Sesi per Hari')\n",
    "plt.xlabel('Jumlah Sesi')\n",
    "plt.ylabel('Tanggal')\n",
    "\n",
    "# Memutar label tanggal agar tidak tumpang tindih\n",
    "plt.xticks(rotation=45)\n",
    "\n",
    "plt.tight_layout()\n",
    "plt.show()"
   ]
  },
  {
   "cell_type": "markdown",
   "metadata": {},
   "source": [
    "**Kesimpulan Sementara**\n",
    "\n",
    "Kita tidak memiliki data yang kosong ataupun yang hilang. Bisa kita lihat bahwa pada tanggal 31 bulan 03 tahun 2018. Terdapat irisan yang sangat kecil yang berarti hanya ada beberapa pengguna saja yang aktif di hari tersebut. Hari berikutnya tercatat berada di titik di atas 100 pengguna."
   ]
  },
  {
   "cell_type": "markdown",
   "metadata": {},
   "source": [
    "**Berapa Lama Durasi Untuk Setiap Sesi?**\n",
    "\n",
    "* Kita akan menggunakan durasi per sesi dalam satuan menit."
   ]
  },
  {
   "cell_type": "code",
   "execution_count": 23,
   "metadata": {},
   "outputs": [],
   "source": [
    "# Menghitung durasi setiap sesi (dalam menit)\n",
    "visitslog['session_duration'] = (visitslog['end_ts'] - visitslog['start_ts']).dt.total_seconds()/60"
   ]
  },
  {
   "cell_type": "code",
   "execution_count": 24,
   "metadata": {},
   "outputs": [
    {
     "data": {
      "text/html": [
       "<div>\n",
       "<style scoped>\n",
       "    .dataframe tbody tr th:only-of-type {\n",
       "        vertical-align: middle;\n",
       "    }\n",
       "\n",
       "    .dataframe tbody tr th {\n",
       "        vertical-align: top;\n",
       "    }\n",
       "\n",
       "    .dataframe thead th {\n",
       "        text-align: right;\n",
       "    }\n",
       "</style>\n",
       "<table border=\"1\" class=\"dataframe\">\n",
       "  <thead>\n",
       "    <tr style=\"text-align: right;\">\n",
       "      <th></th>\n",
       "      <th>device</th>\n",
       "      <th>end_ts</th>\n",
       "      <th>source_id</th>\n",
       "      <th>start_ts</th>\n",
       "      <th>uid</th>\n",
       "      <th>session_duration</th>\n",
       "    </tr>\n",
       "  </thead>\n",
       "  <tbody>\n",
       "    <tr>\n",
       "      <th>0</th>\n",
       "      <td>touch</td>\n",
       "      <td>2017-12-20 17:38:00</td>\n",
       "      <td>4</td>\n",
       "      <td>2017-12-20 17:20:00</td>\n",
       "      <td>16879256277535980062</td>\n",
       "      <td>18.0</td>\n",
       "    </tr>\n",
       "    <tr>\n",
       "      <th>1</th>\n",
       "      <td>desktop</td>\n",
       "      <td>2018-02-19 17:21:00</td>\n",
       "      <td>2</td>\n",
       "      <td>2018-02-19 16:53:00</td>\n",
       "      <td>104060357244891740</td>\n",
       "      <td>28.0</td>\n",
       "    </tr>\n",
       "    <tr>\n",
       "      <th>2</th>\n",
       "      <td>touch</td>\n",
       "      <td>2017-07-01 01:54:00</td>\n",
       "      <td>5</td>\n",
       "      <td>2017-07-01 01:54:00</td>\n",
       "      <td>7459035603376831527</td>\n",
       "      <td>0.0</td>\n",
       "    </tr>\n",
       "    <tr>\n",
       "      <th>3</th>\n",
       "      <td>desktop</td>\n",
       "      <td>2018-05-20 11:23:00</td>\n",
       "      <td>9</td>\n",
       "      <td>2018-05-20 10:59:00</td>\n",
       "      <td>16174680259334210214</td>\n",
       "      <td>24.0</td>\n",
       "    </tr>\n",
       "    <tr>\n",
       "      <th>4</th>\n",
       "      <td>desktop</td>\n",
       "      <td>2017-12-27 14:06:00</td>\n",
       "      <td>3</td>\n",
       "      <td>2017-12-27 14:06:00</td>\n",
       "      <td>9969694820036681168</td>\n",
       "      <td>0.0</td>\n",
       "    </tr>\n",
       "    <tr>\n",
       "      <th>5</th>\n",
       "      <td>desktop</td>\n",
       "      <td>2017-09-03 21:36:00</td>\n",
       "      <td>5</td>\n",
       "      <td>2017-09-03 21:35:00</td>\n",
       "      <td>16007536194108375387</td>\n",
       "      <td>1.0</td>\n",
       "    </tr>\n",
       "    <tr>\n",
       "      <th>6</th>\n",
       "      <td>desktop</td>\n",
       "      <td>2018-01-30 12:09:00</td>\n",
       "      <td>1</td>\n",
       "      <td>2018-01-30 11:13:00</td>\n",
       "      <td>6661610529277171451</td>\n",
       "      <td>56.0</td>\n",
       "    </tr>\n",
       "    <tr>\n",
       "      <th>7</th>\n",
       "      <td>touch</td>\n",
       "      <td>2017-11-05 15:15:00</td>\n",
       "      <td>3</td>\n",
       "      <td>2017-11-05 15:14:00</td>\n",
       "      <td>11423865690854540312</td>\n",
       "      <td>1.0</td>\n",
       "    </tr>\n",
       "    <tr>\n",
       "      <th>8</th>\n",
       "      <td>desktop</td>\n",
       "      <td>2017-07-19 10:44:00</td>\n",
       "      <td>3</td>\n",
       "      <td>2017-07-19 10:41:00</td>\n",
       "      <td>2987360259350925644</td>\n",
       "      <td>3.0</td>\n",
       "    </tr>\n",
       "    <tr>\n",
       "      <th>9</th>\n",
       "      <td>desktop</td>\n",
       "      <td>2017-11-08 13:43:00</td>\n",
       "      <td>5</td>\n",
       "      <td>2017-11-08 13:42:00</td>\n",
       "      <td>1289240080042562063</td>\n",
       "      <td>1.0</td>\n",
       "    </tr>\n",
       "    <tr>\n",
       "      <th>10</th>\n",
       "      <td>desktop</td>\n",
       "      <td>2017-07-14 12:44:00</td>\n",
       "      <td>5</td>\n",
       "      <td>2017-07-14 12:43:00</td>\n",
       "      <td>14879997728223227242</td>\n",
       "      <td>1.0</td>\n",
       "    </tr>\n",
       "    <tr>\n",
       "      <th>11</th>\n",
       "      <td>desktop</td>\n",
       "      <td>2018-01-25 19:41:00</td>\n",
       "      <td>1</td>\n",
       "      <td>2018-01-25 19:37:00</td>\n",
       "      <td>7478054213403174082</td>\n",
       "      <td>4.0</td>\n",
       "    </tr>\n",
       "    <tr>\n",
       "      <th>12</th>\n",
       "      <td>desktop</td>\n",
       "      <td>2018-02-06 15:50:00</td>\n",
       "      <td>4</td>\n",
       "      <td>2018-02-06 15:45:00</td>\n",
       "      <td>8056418121947262981</td>\n",
       "      <td>5.0</td>\n",
       "    </tr>\n",
       "    <tr>\n",
       "      <th>13</th>\n",
       "      <td>desktop</td>\n",
       "      <td>2017-11-27 14:43:00</td>\n",
       "      <td>3</td>\n",
       "      <td>2017-11-27 14:42:00</td>\n",
       "      <td>1989613820989570316</td>\n",
       "      <td>1.0</td>\n",
       "    </tr>\n",
       "    <tr>\n",
       "      <th>14</th>\n",
       "      <td>touch</td>\n",
       "      <td>2018-04-23 18:01:00</td>\n",
       "      <td>9</td>\n",
       "      <td>2018-04-23 18:00:00</td>\n",
       "      <td>18026419100367255411</td>\n",
       "      <td>1.0</td>\n",
       "    </tr>\n",
       "    <tr>\n",
       "      <th>15</th>\n",
       "      <td>touch</td>\n",
       "      <td>2018-02-12 20:30:00</td>\n",
       "      <td>2</td>\n",
       "      <td>2018-02-12 19:24:00</td>\n",
       "      <td>18188358787673499603</td>\n",
       "      <td>66.0</td>\n",
       "    </tr>\n",
       "    <tr>\n",
       "      <th>16</th>\n",
       "      <td>desktop</td>\n",
       "      <td>2018-05-14 08:45:00</td>\n",
       "      <td>5</td>\n",
       "      <td>2018-05-14 08:39:00</td>\n",
       "      <td>13958332529722257330</td>\n",
       "      <td>6.0</td>\n",
       "    </tr>\n",
       "    <tr>\n",
       "      <th>17</th>\n",
       "      <td>desktop</td>\n",
       "      <td>2018-05-30 08:51:00</td>\n",
       "      <td>5</td>\n",
       "      <td>2018-05-30 08:49:00</td>\n",
       "      <td>7415904268540941371</td>\n",
       "      <td>2.0</td>\n",
       "    </tr>\n",
       "    <tr>\n",
       "      <th>18</th>\n",
       "      <td>desktop</td>\n",
       "      <td>2018-04-05 16:35:00</td>\n",
       "      <td>10</td>\n",
       "      <td>2018-04-05 16:28:00</td>\n",
       "      <td>17023906935283809754</td>\n",
       "      <td>7.0</td>\n",
       "    </tr>\n",
       "    <tr>\n",
       "      <th>19</th>\n",
       "      <td>desktop</td>\n",
       "      <td>2018-05-17 19:26:00</td>\n",
       "      <td>2</td>\n",
       "      <td>2018-05-17 18:10:00</td>\n",
       "      <td>14243397340327062268</td>\n",
       "      <td>76.0</td>\n",
       "    </tr>\n",
       "  </tbody>\n",
       "</table>\n",
       "</div>"
      ],
      "text/plain": [
       "     device              end_ts  source_id            start_ts  \\\n",
       "0     touch 2017-12-20 17:38:00          4 2017-12-20 17:20:00   \n",
       "1   desktop 2018-02-19 17:21:00          2 2018-02-19 16:53:00   \n",
       "2     touch 2017-07-01 01:54:00          5 2017-07-01 01:54:00   \n",
       "3   desktop 2018-05-20 11:23:00          9 2018-05-20 10:59:00   \n",
       "4   desktop 2017-12-27 14:06:00          3 2017-12-27 14:06:00   \n",
       "5   desktop 2017-09-03 21:36:00          5 2017-09-03 21:35:00   \n",
       "6   desktop 2018-01-30 12:09:00          1 2018-01-30 11:13:00   \n",
       "7     touch 2017-11-05 15:15:00          3 2017-11-05 15:14:00   \n",
       "8   desktop 2017-07-19 10:44:00          3 2017-07-19 10:41:00   \n",
       "9   desktop 2017-11-08 13:43:00          5 2017-11-08 13:42:00   \n",
       "10  desktop 2017-07-14 12:44:00          5 2017-07-14 12:43:00   \n",
       "11  desktop 2018-01-25 19:41:00          1 2018-01-25 19:37:00   \n",
       "12  desktop 2018-02-06 15:50:00          4 2018-02-06 15:45:00   \n",
       "13  desktop 2017-11-27 14:43:00          3 2017-11-27 14:42:00   \n",
       "14    touch 2018-04-23 18:01:00          9 2018-04-23 18:00:00   \n",
       "15    touch 2018-02-12 20:30:00          2 2018-02-12 19:24:00   \n",
       "16  desktop 2018-05-14 08:45:00          5 2018-05-14 08:39:00   \n",
       "17  desktop 2018-05-30 08:51:00          5 2018-05-30 08:49:00   \n",
       "18  desktop 2018-04-05 16:35:00         10 2018-04-05 16:28:00   \n",
       "19  desktop 2018-05-17 19:26:00          2 2018-05-17 18:10:00   \n",
       "\n",
       "                     uid  session_duration  \n",
       "0   16879256277535980062              18.0  \n",
       "1     104060357244891740              28.0  \n",
       "2    7459035603376831527               0.0  \n",
       "3   16174680259334210214              24.0  \n",
       "4    9969694820036681168               0.0  \n",
       "5   16007536194108375387               1.0  \n",
       "6    6661610529277171451              56.0  \n",
       "7   11423865690854540312               1.0  \n",
       "8    2987360259350925644               3.0  \n",
       "9    1289240080042562063               1.0  \n",
       "10  14879997728223227242               1.0  \n",
       "11   7478054213403174082               4.0  \n",
       "12   8056418121947262981               5.0  \n",
       "13   1989613820989570316               1.0  \n",
       "14  18026419100367255411               1.0  \n",
       "15  18188358787673499603              66.0  \n",
       "16  13958332529722257330               6.0  \n",
       "17   7415904268540941371               2.0  \n",
       "18  17023906935283809754               7.0  \n",
       "19  14243397340327062268              76.0  "
      ]
     },
     "execution_count": 24,
     "metadata": {},
     "output_type": "execute_result"
    }
   ],
   "source": [
    "# Memeriksa kolom baru\n",
    "visitslog.head(20)"
   ]
  },
  {
   "cell_type": "markdown",
   "metadata": {},
   "source": [
    "* Kita telah menambahkan kolom baru yaitu session_duration dengan satuan menit. Sekarang kita akan ambil 10 sample tertinggi dan 10 sample terendah untuk lama durasi setiap sesi."
   ]
  },
  {
   "cell_type": "code",
   "execution_count": 25,
   "metadata": {},
   "outputs": [
    {
     "data": {
      "image/png": "[encoded data removed]",
      "text/plain": [
       "<Figure size 864x432 with 1 Axes>"
      ]
     },
     "metadata": {
      "needs_background": "light"
     },
     "output_type": "display_data"
    }
   ],
   "source": [
    "# Menampilkan 10 sesi per hari dari yang tertinggi\n",
    "top_10_session_duration_largest = visitslog.nlargest(10, 'session_duration')\n",
    "\n",
    "# Membuat visualisasi\n",
    "plt.figure(figsize=(12, 6))\n",
    "colors = sns.color_palette(\"coolwarm\", len(top_10_session_duration_largest))\n",
    "sns.barplot(x='session_duration', y='start_ts', data=top_10_session_duration_largest, orient='h', palette=colors)\n",
    "plt.title('10 Durasi Sesi Terbesar (dalam Menit)')\n",
    "plt.xlabel('Durasi Sesi (Menit)')\n",
    "plt.ylabel('Tanggal')\n",
    "\n",
    "plt.show()"
   ]
  },
  {
   "cell_type": "markdown",
   "metadata": {},
   "source": [
    "**Kesimpulan Sementara**\n",
    "\n",
    "Besar sesi yang kita miliki bisa saja pengguna dalam keadaan idle sehingga tidak melakukan aktivitas apapun."
   ]
  },
  {
   "cell_type": "code",
   "execution_count": 26,
   "metadata": {},
   "outputs": [
    {
     "data": {
      "image/png": "[encoded data removed]",
      "text/plain": [
       "<Figure size 864x432 with 1 Axes>"
      ]
     },
     "metadata": {
      "needs_background": "light"
     },
     "output_type": "display_data"
    }
   ],
   "source": [
    "# 10 sesi per hari dari yang terendah\n",
    "top_10_session_duration_smallest = visitslog.nsmallest(10, 'session_duration')\n",
    "\n",
    "# Membuat visualisasi\n",
    "plt.figure(figsize=(12, 6))\n",
    "colors = sns.color_palette(\"coolwarm\", len(top_10_session_duration_smallest))\n",
    "sns.barplot(x='session_duration', y='uid', data=top_10_session_duration_smallest, orient='h', palette=colors)\n",
    "plt.title('10 Durasi Sesi Terbesar (dalam Menit)')\n",
    "plt.xlabel('Durasi Sesi (Menit)')\n",
    "plt.ylabel('Tanggal')\n",
    "\n",
    "plt.show()"
   ]
  },
  {
   "cell_type": "code",
   "execution_count": 27,
   "metadata": {},
   "outputs": [
    {
     "data": {
      "text/html": [
       "<div>\n",
       "<style scoped>\n",
       "    .dataframe tbody tr th:only-of-type {\n",
       "        vertical-align: middle;\n",
       "    }\n",
       "\n",
       "    .dataframe tbody tr th {\n",
       "        vertical-align: top;\n",
       "    }\n",
       "\n",
       "    .dataframe thead th {\n",
       "        text-align: right;\n",
       "    }\n",
       "</style>\n",
       "<table border=\"1\" class=\"dataframe\">\n",
       "  <thead>\n",
       "    <tr style=\"text-align: right;\">\n",
       "      <th></th>\n",
       "      <th>device</th>\n",
       "      <th>end_ts</th>\n",
       "      <th>source_id</th>\n",
       "      <th>start_ts</th>\n",
       "      <th>uid</th>\n",
       "      <th>session_duration</th>\n",
       "    </tr>\n",
       "  </thead>\n",
       "  <tbody>\n",
       "    <tr>\n",
       "      <th>4181</th>\n",
       "      <td>desktop</td>\n",
       "      <td>2018-03-25 03:18:00</td>\n",
       "      <td>3</td>\n",
       "      <td>2018-03-25 03:50:00</td>\n",
       "      <td>13092152539246794986</td>\n",
       "      <td>-32.0</td>\n",
       "    </tr>\n",
       "    <tr>\n",
       "      <th>177972</th>\n",
       "      <td>desktop</td>\n",
       "      <td>2018-03-25 03:09:00</td>\n",
       "      <td>9</td>\n",
       "      <td>2018-03-25 03:55:00</td>\n",
       "      <td>4621202742905035453</td>\n",
       "      <td>-46.0</td>\n",
       "    </tr>\n",
       "  </tbody>\n",
       "</table>\n",
       "</div>"
      ],
      "text/plain": [
       "         device              end_ts  source_id            start_ts  \\\n",
       "4181    desktop 2018-03-25 03:18:00          3 2018-03-25 03:50:00   \n",
       "177972  desktop 2018-03-25 03:09:00          9 2018-03-25 03:55:00   \n",
       "\n",
       "                         uid  session_duration  \n",
       "4181    13092152539246794986             -32.0  \n",
       "177972   4621202742905035453             -46.0  "
      ]
     },
     "execution_count": 27,
     "metadata": {},
     "output_type": "execute_result"
    }
   ],
   "source": [
    "visitslog[visitslog['session_duration'] < 0]"
   ]
  },
  {
   "cell_type": "markdown",
   "metadata": {},
   "source": [
    "**Temuan**\n",
    "\n",
    "Ternyata terdapat nilai outliers rendah yang sangat menjorok untuk mengetahui titik terendah dari durasi setiap sesi. Durasi sesi yang memiliki nilai negatif adalah sesuatu yang tidak mungkin dalam konteks sesi pengguna. Nilai negatif pada durasi sesi adalah anomali atau outliers yang perlu diperiksa lebih lanjut. Ini mungkin terjadi karena masalah dalam proses pencatatan atau pengumpulan data."
   ]
  },
  {
   "cell_type": "code",
   "execution_count": 28,
   "metadata": {},
   "outputs": [],
   "source": [
    "visits_filtered = visitslog.query('session_duration > 0')\n",
    "# Mengambil 10 data terendah dari filtered_visits berdasarkan kolom session_duration\n",
    "lowest_duration_visits = visits_filtered.nsmallest(10, 'session_duration')"
   ]
  },
  {
   "cell_type": "code",
   "execution_count": 29,
   "metadata": {},
   "outputs": [],
   "source": [
    "lower_visits_sample = visits_filtered[visits_filtered['session_duration'] >= 0].head(10)"
   ]
  },
  {
   "cell_type": "code",
   "execution_count": 30,
   "metadata": {},
   "outputs": [
    {
     "data": {
      "image/png": "[encoded data removed]",
      "text/plain": [
       "<Figure size 1440x576 with 1 Axes>"
      ]
     },
     "metadata": {
      "needs_background": "light"
     },
     "output_type": "display_data"
    }
   ],
   "source": [
    "plt.figure(figsize=(20,8))\n",
    "colors = sns.color_palette(\"coolwarm\", len(lower_visits_sample))\n",
    "sns.barplot(data = lower_visits_sample.sort_values(by='session_duration'), x = 'session_duration', y = 'session_duration', palette=colors );"
   ]
  },
  {
   "cell_type": "markdown",
   "metadata": {},
   "source": [
    "**Kesimpulan Sementara**\n",
    "\n",
    "Session Durasi 1 Menit: Session dengan durasi sekitar 1 menit mungkin menunjukkan bahwa pengguna hanya mengunjungi situs web atau aplikasi untuk waktu singkat dan kemudian keluar. Ini bisa jadi tanda bahwa pengguna tidak menemukan konten atau pengalaman yang menarik, atau mungkin mereka hanya mencari informasi singkat. Dalam hal ini, kita mungkin ingin mempertimbangkan untuk memperbaiki pengalaman pengguna atau mengevaluasi halaman yang kurang menarik."
   ]
  },
  {
   "cell_type": "markdown",
   "metadata": {},
   "source": [
    "**Pengalaman Seberapa Sering Pengguna Kembali untuk Menggunakan Produk?**"
   ]
  },
  {
   "cell_type": "code",
   "execution_count": 31,
   "metadata": {},
   "outputs": [],
   "source": [
    "# Mengidentifikasi pengguna pertama dan tanggal penggunaan pertama\n",
    "first_usage = visitslog.groupby('uid')['start_ts'].min().reset_index()\n",
    "first_usage.columns = ['uid', 'first_usage_date']\n",
    "\n",
    "# Menghitung pengguna yang kembali dalam sehari setelah penggunaan pertama\n",
    "first_usage['return'] = first_usage['uid'].isin(visitslog[(visitslog['start_ts'] - first_usage['first_usage_date']).dt.days == 1]['uid']).astype(int)\n",
    "\n",
    "# Membuat first_usage sebagai DataFrame baru\n",
    "first_usage_df = pd.DataFrame(first_usage)\n",
    "\n",
    "# Mengukur retensi harian\n",
    "retention_rate = first_usage_df['return'].mean() * 100"
   ]
  },
  {
   "cell_type": "code",
   "execution_count": 32,
   "metadata": {},
   "outputs": [
    {
     "name": "stdout",
     "output_type": "stream",
     "text": [
      "0.30416051260250077 %\n"
     ]
    }
   ],
   "source": [
    "print(retention_rate,'%')"
   ]
  },
  {
   "cell_type": "code",
   "execution_count": 33,
   "metadata": {},
   "outputs": [],
   "source": [
    "# Mengidentifikasi pengguna pertama dan tanggal penggunaan pertama\n",
    "first_usage = visitslog.groupby('uid')['start_ts'].min().reset_index()\n",
    "first_usage.columns = ['uid', 'first_usage_date']\n",
    "\n",
    "# Menghitung pengguna yang kembali dalam sebulan setelah penggunaan pertama\n",
    "first_usage['return'] = first_usage['uid'].isin(visitslog[(visitslog['start_ts'] - first_usage['first_usage_date']).dt.days <= 30]['uid']).astype(int)\n",
    "\n",
    "# Mengukur retensi bulanan\n",
    "retention_rate = first_usage['return'].mean() * 100"
   ]
  },
  {
   "cell_type": "code",
   "execution_count": 34,
   "metadata": {},
   "outputs": [
    {
     "name": "stdout",
     "output_type": "stream",
     "text": [
      "42.90416314223229 %\n"
     ]
    }
   ],
   "source": [
    "print(retention_rate,'%')"
   ]
  },
  {
   "cell_type": "markdown",
   "metadata": {},
   "source": [
    " *  **4.2. Penjualan**\n",
    " \n",
    " *    Di sini kita memeriksa besaran konversi terhadap pembelian pertama"
   ]
  },
  {
   "cell_type": "markdown",
   "metadata": {},
   "source": [
    "**Kapan Orang-Orang Mulai Melakukan Pembelian?**\n",
    "\n",
    "* Kita akan menggabungkan 2 dataset untuk kapan pengunjung itu datang dan kapan pengunjung itu membeli."
   ]
  },
  {
   "cell_type": "code",
   "execution_count": 35,
   "metadata": {},
   "outputs": [],
   "source": [
    "# Pembelian awal dengan methode groupby\n",
    "first_orders_dates = orderslog.groupby('uid')['buy_ts'].min().reset_index()\n",
    "first_visits_dates = visitslog.groupby('uid')['start_ts'].min().reset_index()"
   ]
  },
  {
   "cell_type": "code",
   "execution_count": 36,
   "metadata": {},
   "outputs": [],
   "source": [
    "# Menggabungkan dataset orderslog dan visitslog\n",
    "merged_data = pd.merge(first_visits_dates, first_orders_dates, on='uid', how='left')\n",
    "\n",
    "# Menghitung selisih waktu antara tanggal kunjungan pertama dan tanggal pembelian pertama\n",
    "merged_data['time_to_conversion'] = (merged_data['buy_ts'] - merged_data['start_ts']).dt.days\n",
    "\n",
    "\n",
    "# Tampilkan hasil yang mencakup kolom-kolom yang Anda cari\n",
    "result = merged_data[['uid','time_to_conversion','start_ts','buy_ts']]"
   ]
  },
  {
   "cell_type": "code",
   "execution_count": 37,
   "metadata": {
    "collapsed": true
   },
   "outputs": [
    {
     "data": {
      "text/html": [
       "<div>\n",
       "<style scoped>\n",
       "    .dataframe tbody tr th:only-of-type {\n",
       "        vertical-align: middle;\n",
       "    }\n",
       "\n",
       "    .dataframe tbody tr th {\n",
       "        vertical-align: top;\n",
       "    }\n",
       "\n",
       "    .dataframe thead th {\n",
       "        text-align: right;\n",
       "    }\n",
       "</style>\n",
       "<table border=\"1\" class=\"dataframe\">\n",
       "  <thead>\n",
       "    <tr style=\"text-align: right;\">\n",
       "      <th></th>\n",
       "      <th>uid</th>\n",
       "      <th>time_to_conversion</th>\n",
       "      <th>start_ts</th>\n",
       "      <th>buy_ts</th>\n",
       "    </tr>\n",
       "  </thead>\n",
       "  <tbody>\n",
       "    <tr>\n",
       "      <th>228149</th>\n",
       "      <td>18445670737855705729</td>\n",
       "      <td>NaN</td>\n",
       "      <td>2018-02-15 10:05:00</td>\n",
       "      <td>NaT</td>\n",
       "    </tr>\n",
       "    <tr>\n",
       "      <th>228150</th>\n",
       "      <td>18445722305371387073</td>\n",
       "      <td>NaN</td>\n",
       "      <td>2018-03-02 18:52:00</td>\n",
       "      <td>NaT</td>\n",
       "    </tr>\n",
       "    <tr>\n",
       "      <th>228151</th>\n",
       "      <td>18445747027901320564</td>\n",
       "      <td>NaN</td>\n",
       "      <td>2017-11-28 00:27:00</td>\n",
       "      <td>NaT</td>\n",
       "    </tr>\n",
       "    <tr>\n",
       "      <th>228152</th>\n",
       "      <td>18445867588706195862</td>\n",
       "      <td>NaN</td>\n",
       "      <td>2017-06-15 14:40:00</td>\n",
       "      <td>NaT</td>\n",
       "    </tr>\n",
       "    <tr>\n",
       "      <th>228153</th>\n",
       "      <td>18445883325006294312</td>\n",
       "      <td>NaN</td>\n",
       "      <td>2017-12-02 18:30:00</td>\n",
       "      <td>NaT</td>\n",
       "    </tr>\n",
       "    <tr>\n",
       "      <th>228154</th>\n",
       "      <td>18445884613277162497</td>\n",
       "      <td>NaN</td>\n",
       "      <td>2017-11-09 17:34:00</td>\n",
       "      <td>NaT</td>\n",
       "    </tr>\n",
       "    <tr>\n",
       "      <th>228155</th>\n",
       "      <td>18445952482630424767</td>\n",
       "      <td>NaN</td>\n",
       "      <td>2017-09-22 00:05:00</td>\n",
       "      <td>NaT</td>\n",
       "    </tr>\n",
       "    <tr>\n",
       "      <th>228156</th>\n",
       "      <td>18445989073663295960</td>\n",
       "      <td>NaN</td>\n",
       "      <td>2018-02-02 21:22:00</td>\n",
       "      <td>NaT</td>\n",
       "    </tr>\n",
       "    <tr>\n",
       "      <th>228157</th>\n",
       "      <td>18446081852968332494</td>\n",
       "      <td>NaN</td>\n",
       "      <td>2017-10-19 11:54:00</td>\n",
       "      <td>NaT</td>\n",
       "    </tr>\n",
       "    <tr>\n",
       "      <th>228158</th>\n",
       "      <td>18446085545761680279</td>\n",
       "      <td>NaN</td>\n",
       "      <td>2017-10-18 20:27:00</td>\n",
       "      <td>NaT</td>\n",
       "    </tr>\n",
       "    <tr>\n",
       "      <th>228159</th>\n",
       "      <td>18446104389491815722</td>\n",
       "      <td>NaN</td>\n",
       "      <td>2018-03-24 23:38:00</td>\n",
       "      <td>NaT</td>\n",
       "    </tr>\n",
       "    <tr>\n",
       "      <th>228160</th>\n",
       "      <td>18446120301360161958</td>\n",
       "      <td>NaN</td>\n",
       "      <td>2017-07-16 16:05:00</td>\n",
       "      <td>NaT</td>\n",
       "    </tr>\n",
       "    <tr>\n",
       "      <th>228161</th>\n",
       "      <td>18446156210226471712</td>\n",
       "      <td>103.0</td>\n",
       "      <td>2017-11-07 10:01:00</td>\n",
       "      <td>2018-02-18 19:34:00</td>\n",
       "    </tr>\n",
       "    <tr>\n",
       "      <th>228162</th>\n",
       "      <td>18446167067214817906</td>\n",
       "      <td>0.0</td>\n",
       "      <td>2017-10-17 10:05:00</td>\n",
       "      <td>2017-10-17 10:16:00</td>\n",
       "    </tr>\n",
       "    <tr>\n",
       "      <th>228163</th>\n",
       "      <td>18446316582013423015</td>\n",
       "      <td>NaN</td>\n",
       "      <td>2018-02-26 10:14:00</td>\n",
       "      <td>NaT</td>\n",
       "    </tr>\n",
       "    <tr>\n",
       "      <th>228164</th>\n",
       "      <td>18446403737806311543</td>\n",
       "      <td>NaN</td>\n",
       "      <td>2017-11-30 03:36:00</td>\n",
       "      <td>NaT</td>\n",
       "    </tr>\n",
       "    <tr>\n",
       "      <th>228165</th>\n",
       "      <td>18446424184725333426</td>\n",
       "      <td>NaN</td>\n",
       "      <td>2017-12-06 20:32:00</td>\n",
       "      <td>NaT</td>\n",
       "    </tr>\n",
       "    <tr>\n",
       "      <th>228166</th>\n",
       "      <td>18446556406699109058</td>\n",
       "      <td>NaN</td>\n",
       "      <td>2018-01-01 16:29:00</td>\n",
       "      <td>NaT</td>\n",
       "    </tr>\n",
       "    <tr>\n",
       "      <th>228167</th>\n",
       "      <td>18446621818809592527</td>\n",
       "      <td>NaN</td>\n",
       "      <td>2017-12-27 13:27:00</td>\n",
       "      <td>NaT</td>\n",
       "    </tr>\n",
       "    <tr>\n",
       "      <th>228168</th>\n",
       "      <td>18446676030785672386</td>\n",
       "      <td>NaN</td>\n",
       "      <td>2017-10-04 16:01:00</td>\n",
       "      <td>NaT</td>\n",
       "    </tr>\n",
       "  </tbody>\n",
       "</table>\n",
       "</div>"
      ],
      "text/plain": [
       "                         uid  time_to_conversion            start_ts  \\\n",
       "228149  18445670737855705729                 NaN 2018-02-15 10:05:00   \n",
       "228150  18445722305371387073                 NaN 2018-03-02 18:52:00   \n",
       "228151  18445747027901320564                 NaN 2017-11-28 00:27:00   \n",
       "228152  18445867588706195862                 NaN 2017-06-15 14:40:00   \n",
       "228153  18445883325006294312                 NaN 2017-12-02 18:30:00   \n",
       "228154  18445884613277162497                 NaN 2017-11-09 17:34:00   \n",
       "228155  18445952482630424767                 NaN 2017-09-22 00:05:00   \n",
       "228156  18445989073663295960                 NaN 2018-02-02 21:22:00   \n",
       "228157  18446081852968332494                 NaN 2017-10-19 11:54:00   \n",
       "228158  18446085545761680279                 NaN 2017-10-18 20:27:00   \n",
       "228159  18446104389491815722                 NaN 2018-03-24 23:38:00   \n",
       "228160  18446120301360161958                 NaN 2017-07-16 16:05:00   \n",
       "228161  18446156210226471712               103.0 2017-11-07 10:01:00   \n",
       "228162  18446167067214817906                 0.0 2017-10-17 10:05:00   \n",
       "228163  18446316582013423015                 NaN 2018-02-26 10:14:00   \n",
       "228164  18446403737806311543                 NaN 2017-11-30 03:36:00   \n",
       "228165  18446424184725333426                 NaN 2017-12-06 20:32:00   \n",
       "228166  18446556406699109058                 NaN 2018-01-01 16:29:00   \n",
       "228167  18446621818809592527                 NaN 2017-12-27 13:27:00   \n",
       "228168  18446676030785672386                 NaN 2017-10-04 16:01:00   \n",
       "\n",
       "                    buy_ts  \n",
       "228149                 NaT  \n",
       "228150                 NaT  \n",
       "228151                 NaT  \n",
       "228152                 NaT  \n",
       "228153                 NaT  \n",
       "228154                 NaT  \n",
       "228155                 NaT  \n",
       "228156                 NaT  \n",
       "228157                 NaT  \n",
       "228158                 NaT  \n",
       "228159                 NaT  \n",
       "228160                 NaT  \n",
       "228161 2018-02-18 19:34:00  \n",
       "228162 2017-10-17 10:16:00  \n",
       "228163                 NaT  \n",
       "228164                 NaT  \n",
       "228165                 NaT  \n",
       "228166                 NaT  \n",
       "228167                 NaT  \n",
       "228168                 NaT  "
      ]
     },
     "execution_count": 37,
     "metadata": {},
     "output_type": "execute_result"
    }
   ],
   "source": [
    "result.tail(20)"
   ]
  },
  {
   "cell_type": "markdown",
   "metadata": {},
   "source": [
    "**Kesimpulan Sementara**\n",
    "\n",
    "Interpretasi dari kolom `time_to_conversion` adalah selisih waktu dalam hari antara tanggal kunjungan pertama `(start_ts)` dan tanggal pembelian pertama `(buy_ts)` untuk setiap pengguna."
   ]
  },
  {
   "cell_type": "markdown",
   "metadata": {},
   "source": [
    "<div style=\"display: flex;\">\n",
    "  <div style=\"flex: 1; padding: 10px;\">\n",
    "    <ul>\n",
    "      Baris Pertama\n",
    "      <li>UID: 18445601152732270159</li>\n",
    "      <li>Selisih waktu: 231.0 hari</li>\n",
    "    </ul>\n",
    "  </div>\n",
    "  <div style=\"flex: 1; padding: 10px;\">\n",
    "    <ul>\n",
    "      Baris Kedua\n",
    "      <li>UID: 18445670737855705729</li>\n",
    "      <li>Selisih waktu: NaN</li>\n",
    "    </ul>\n",
    "  </div>\n",
    "</div>"
   ]
  },
  {
   "cell_type": "markdown",
   "metadata": {},
   "source": [
    "Dalam baris pertama, pengguna dengan UID 18445601152732270159 melakukan pembelian 231 hari setelah kunjungan pertama mereka. Artinya, pengguna ini menjadi pelanggan (konversi) setelah 231 hari dari kunjungan pertama.\n",
    "\n",
    "Sedangkan pada baris kedua, terdapat NaN pada kolom `time_to_conversion`, yang mengindikasikan bahwa pengguna dengan UID 18445670737855705729 tidak memiliki catatan pembelian dalam dataset. Ini mungkin berarti bahwa pengguna tersebut tidak pernah melakukan pembelian selama periode yang dicakup oleh data\n",
    "\n",
    "Dengan kata lain, `time_to_conversion` mengukur seberapa lama waktu yang dibutuhkan oleh pengguna dari kunjungan pertama hingga melakukan pembelian pertama. Semakin kecil angka dalam kolom ini, semakin cepat konversi terjadi, sementara nilai NaN menunjukkan bahwa tidak ada konversi yang tercatat untuk pengguna tersebut."
   ]
  },
  {
   "cell_type": "markdown",
   "metadata": {},
   "source": [
    "***Mari kita tampilkan nilai tidak kosong untuk `time_to_conversion`***"
   ]
  },
  {
   "cell_type": "code",
   "execution_count": 38,
   "metadata": {},
   "outputs": [
    {
     "data": {
      "text/html": [
       "<div>\n",
       "<style scoped>\n",
       "    .dataframe tbody tr th:only-of-type {\n",
       "        vertical-align: middle;\n",
       "    }\n",
       "\n",
       "    .dataframe tbody tr th {\n",
       "        vertical-align: top;\n",
       "    }\n",
       "\n",
       "    .dataframe thead th {\n",
       "        text-align: right;\n",
       "    }\n",
       "</style>\n",
       "<table border=\"1\" class=\"dataframe\">\n",
       "  <thead>\n",
       "    <tr style=\"text-align: right;\">\n",
       "      <th></th>\n",
       "      <th>uid</th>\n",
       "      <th>time_to_conversion</th>\n",
       "      <th>start_ts</th>\n",
       "      <th>buy_ts</th>\n",
       "    </tr>\n",
       "  </thead>\n",
       "  <tbody>\n",
       "    <tr>\n",
       "      <th>3</th>\n",
       "      <td>313578113262317</td>\n",
       "      <td>106.0</td>\n",
       "      <td>2017-09-18 22:49:00</td>\n",
       "      <td>2018-01-03 21:51:00</td>\n",
       "    </tr>\n",
       "    <tr>\n",
       "      <th>22</th>\n",
       "      <td>1575281904278712</td>\n",
       "      <td>0.0</td>\n",
       "      <td>2017-06-03 10:13:00</td>\n",
       "      <td>2017-06-03 10:13:00</td>\n",
       "    </tr>\n",
       "    <tr>\n",
       "      <th>35</th>\n",
       "      <td>2429014661409475</td>\n",
       "      <td>0.0</td>\n",
       "      <td>2017-10-11 17:14:00</td>\n",
       "      <td>2017-10-11 18:33:00</td>\n",
       "    </tr>\n",
       "    <tr>\n",
       "      <th>36</th>\n",
       "      <td>2464366381792757</td>\n",
       "      <td>0.0</td>\n",
       "      <td>2018-01-27 20:10:00</td>\n",
       "      <td>2018-01-28 15:54:00</td>\n",
       "    </tr>\n",
       "    <tr>\n",
       "      <th>38</th>\n",
       "      <td>2551852515556206</td>\n",
       "      <td>0.0</td>\n",
       "      <td>2017-11-24 10:14:00</td>\n",
       "      <td>2017-11-24 10:14:00</td>\n",
       "    </tr>\n",
       "    <tr>\n",
       "      <th>...</th>\n",
       "      <td>...</td>\n",
       "      <td>...</td>\n",
       "      <td>...</td>\n",
       "      <td>...</td>\n",
       "    </tr>\n",
       "    <tr>\n",
       "      <th>228142</th>\n",
       "      <td>18445147675727495770</td>\n",
       "      <td>95.0</td>\n",
       "      <td>2017-08-20 13:30:00</td>\n",
       "      <td>2017-11-24 09:03:00</td>\n",
       "    </tr>\n",
       "    <tr>\n",
       "      <th>228143</th>\n",
       "      <td>18445407535914413204</td>\n",
       "      <td>0.0</td>\n",
       "      <td>2017-09-22 23:48:00</td>\n",
       "      <td>2017-09-22 23:55:00</td>\n",
       "    </tr>\n",
       "    <tr>\n",
       "      <th>228148</th>\n",
       "      <td>18445601152732270159</td>\n",
       "      <td>231.0</td>\n",
       "      <td>2017-08-07 11:51:00</td>\n",
       "      <td>2018-03-26 22:54:00</td>\n",
       "    </tr>\n",
       "    <tr>\n",
       "      <th>228161</th>\n",
       "      <td>18446156210226471712</td>\n",
       "      <td>103.0</td>\n",
       "      <td>2017-11-07 10:01:00</td>\n",
       "      <td>2018-02-18 19:34:00</td>\n",
       "    </tr>\n",
       "    <tr>\n",
       "      <th>228162</th>\n",
       "      <td>18446167067214817906</td>\n",
       "      <td>0.0</td>\n",
       "      <td>2017-10-17 10:05:00</td>\n",
       "      <td>2017-10-17 10:16:00</td>\n",
       "    </tr>\n",
       "  </tbody>\n",
       "</table>\n",
       "<p>36523 rows × 4 columns</p>\n",
       "</div>"
      ],
      "text/plain": [
       "                         uid  time_to_conversion            start_ts  \\\n",
       "3            313578113262317               106.0 2017-09-18 22:49:00   \n",
       "22          1575281904278712                 0.0 2017-06-03 10:13:00   \n",
       "35          2429014661409475                 0.0 2017-10-11 17:14:00   \n",
       "36          2464366381792757                 0.0 2018-01-27 20:10:00   \n",
       "38          2551852515556206                 0.0 2017-11-24 10:14:00   \n",
       "...                      ...                 ...                 ...   \n",
       "228142  18445147675727495770                95.0 2017-08-20 13:30:00   \n",
       "228143  18445407535914413204                 0.0 2017-09-22 23:48:00   \n",
       "228148  18445601152732270159               231.0 2017-08-07 11:51:00   \n",
       "228161  18446156210226471712               103.0 2017-11-07 10:01:00   \n",
       "228162  18446167067214817906                 0.0 2017-10-17 10:05:00   \n",
       "\n",
       "                    buy_ts  \n",
       "3      2018-01-03 21:51:00  \n",
       "22     2017-06-03 10:13:00  \n",
       "35     2017-10-11 18:33:00  \n",
       "36     2018-01-28 15:54:00  \n",
       "38     2017-11-24 10:14:00  \n",
       "...                    ...  \n",
       "228142 2017-11-24 09:03:00  \n",
       "228143 2017-09-22 23:55:00  \n",
       "228148 2018-03-26 22:54:00  \n",
       "228161 2018-02-18 19:34:00  \n",
       "228162 2017-10-17 10:16:00  \n",
       "\n",
       "[36523 rows x 4 columns]"
      ]
     },
     "execution_count": 38,
     "metadata": {},
     "output_type": "execute_result"
    }
   ],
   "source": [
    "# Filter hanya baris data yang tidak memiliki NaN pada kolom time_to_conversion\n",
    "non_nan_data = merged_data[pd.notna(merged_data['time_to_conversion'])]\n",
    "\n",
    "# Tampilkan hasil yang mencakup kolom-kolom yang Anda cari\n",
    "result = non_nan_data[['uid', 'time_to_conversion','start_ts','buy_ts']]\n",
    "\n",
    "# Tampilkan 10 data pertama\n",
    "result"
   ]
  },
  {
   "cell_type": "markdown",
   "metadata": {},
   "source": [
    "**Kesimpulan Sementara**\n",
    "\n",
    "Nilai 0 dalam kolom `time_to_conversion`, itu berarti bahwa pengguna tersebut telah melakukan konversi pada hari yang sama dengan pendaftaran atau sesi pertamanya. Dalam konteks analisis konversi, ini bisa diinterpretasikan sebagai konversi \"seketika\" di mana pengguna secara praktis menjadi pelanggan atau melakukan transaksi pada saat yang sama ketika mereka pertama kali mengunjungi atau mendaftar"
   ]
  },
  {
   "cell_type": "code",
   "execution_count": 39,
   "metadata": {},
   "outputs": [],
   "source": [
    "# Mengambil 10 data teratas berdasarkan time_to_conversion\n",
    "fastest_conversion = result.nlargest(24, 'time_to_conversion')"
   ]
  },
  {
   "cell_type": "code",
   "execution_count": 40,
   "metadata": {},
   "outputs": [
    {
     "data": {
      "image/png": "[encoded data removed]",
      "text/plain": [
       "<Figure size 1440x576 with 1 Axes>"
      ]
     },
     "metadata": {
      "needs_background": "light"
     },
     "output_type": "display_data"
    }
   ],
   "source": [
    "plt.figure(figsize=(20,8))\n",
    "sns.barplot(data = fastest_conversion.sort_values(by='time_to_conversion'), x = 'time_to_conversion', y = 'uid' );"
   ]
  },
  {
   "cell_type": "markdown",
   "metadata": {},
   "source": [
    "* Berikut adalah konversi tercepat untuk sample yang tidak memiliki nilai NaN. Kita tidak perlu menunjukan yang rendahnya karena sudah jelas, rendahnya aktivitas bisa dipastikan pengguna hanya melakukan sedikit aktivitas."
   ]
  },
  {
   "cell_type": "markdown",
   "metadata": {},
   "source": [
    "**Berapa Jumlah Pesanan Yang Mereka untuk Selama Periode Waktu Tertentu?**\n",
    "\n",
    "* Mari kita tentukan pada tahun 2017 dan 2018"
   ]
  },
  {
   "cell_type": "code",
   "execution_count": 41,
   "metadata": {},
   "outputs": [
    {
     "data": {
      "text/html": [
       "<div>\n",
       "<style scoped>\n",
       "    .dataframe tbody tr th:only-of-type {\n",
       "        vertical-align: middle;\n",
       "    }\n",
       "\n",
       "    .dataframe tbody tr th {\n",
       "        vertical-align: top;\n",
       "    }\n",
       "\n",
       "    .dataframe thead th {\n",
       "        text-align: right;\n",
       "    }\n",
       "</style>\n",
       "<table border=\"1\" class=\"dataframe\">\n",
       "  <thead>\n",
       "    <tr style=\"text-align: right;\">\n",
       "      <th></th>\n",
       "      <th>buy_ts</th>\n",
       "      <th>revenue</th>\n",
       "      <th>uid</th>\n",
       "    </tr>\n",
       "  </thead>\n",
       "  <tbody>\n",
       "    <tr>\n",
       "      <th>0</th>\n",
       "      <td>2017-06-01 00:10:00</td>\n",
       "      <td>17.00</td>\n",
       "      <td>10329302124590727494</td>\n",
       "    </tr>\n",
       "    <tr>\n",
       "      <th>1</th>\n",
       "      <td>2017-06-01 00:25:00</td>\n",
       "      <td>0.55</td>\n",
       "      <td>11627257723692907447</td>\n",
       "    </tr>\n",
       "    <tr>\n",
       "      <th>2</th>\n",
       "      <td>2017-06-01 00:27:00</td>\n",
       "      <td>0.37</td>\n",
       "      <td>17903680561304213844</td>\n",
       "    </tr>\n",
       "    <tr>\n",
       "      <th>3</th>\n",
       "      <td>2017-06-01 00:29:00</td>\n",
       "      <td>0.55</td>\n",
       "      <td>16109239769442553005</td>\n",
       "    </tr>\n",
       "    <tr>\n",
       "      <th>4</th>\n",
       "      <td>2017-06-01 07:58:00</td>\n",
       "      <td>0.37</td>\n",
       "      <td>14200605875248379450</td>\n",
       "    </tr>\n",
       "    <tr>\n",
       "      <th>5</th>\n",
       "      <td>2017-06-01 08:43:00</td>\n",
       "      <td>0.18</td>\n",
       "      <td>10402394430196413321</td>\n",
       "    </tr>\n",
       "    <tr>\n",
       "      <th>6</th>\n",
       "      <td>2017-06-01 08:54:00</td>\n",
       "      <td>1.83</td>\n",
       "      <td>12464626743129688638</td>\n",
       "    </tr>\n",
       "    <tr>\n",
       "      <th>7</th>\n",
       "      <td>2017-06-01 09:22:00</td>\n",
       "      <td>1.22</td>\n",
       "      <td>3644482766749211722</td>\n",
       "    </tr>\n",
       "    <tr>\n",
       "      <th>8</th>\n",
       "      <td>2017-06-01 09:22:00</td>\n",
       "      <td>3.30</td>\n",
       "      <td>17542070709969841479</td>\n",
       "    </tr>\n",
       "    <tr>\n",
       "      <th>9</th>\n",
       "      <td>2017-06-01 09:23:00</td>\n",
       "      <td>0.37</td>\n",
       "      <td>1074355127080856382</td>\n",
       "    </tr>\n",
       "    <tr>\n",
       "      <th>10</th>\n",
       "      <td>2017-06-01 09:58:00</td>\n",
       "      <td>2.81</td>\n",
       "      <td>12888070354554424008</td>\n",
       "    </tr>\n",
       "    <tr>\n",
       "      <th>11</th>\n",
       "      <td>2017-06-01 10:27:00</td>\n",
       "      <td>1.22</td>\n",
       "      <td>4409266971612110231</td>\n",
       "    </tr>\n",
       "    <tr>\n",
       "      <th>12</th>\n",
       "      <td>2017-06-01 10:33:00</td>\n",
       "      <td>9.78</td>\n",
       "      <td>8635489015105716934</td>\n",
       "    </tr>\n",
       "    <tr>\n",
       "      <th>13</th>\n",
       "      <td>2017-06-01 10:38:00</td>\n",
       "      <td>1.83</td>\n",
       "      <td>8995168848618027177</td>\n",
       "    </tr>\n",
       "    <tr>\n",
       "      <th>14</th>\n",
       "      <td>2017-06-01 10:38:00</td>\n",
       "      <td>2.08</td>\n",
       "      <td>2050423809815667474</td>\n",
       "    </tr>\n",
       "    <tr>\n",
       "      <th>15</th>\n",
       "      <td>2017-06-01 10:43:00</td>\n",
       "      <td>4.15</td>\n",
       "      <td>18335282082749800806</td>\n",
       "    </tr>\n",
       "    <tr>\n",
       "      <th>16</th>\n",
       "      <td>2017-06-01 10:49:00</td>\n",
       "      <td>7.33</td>\n",
       "      <td>9454788256069675152</td>\n",
       "    </tr>\n",
       "    <tr>\n",
       "      <th>17</th>\n",
       "      <td>2017-06-01 10:58:00</td>\n",
       "      <td>3.73</td>\n",
       "      <td>11062788618907079633</td>\n",
       "    </tr>\n",
       "    <tr>\n",
       "      <th>18</th>\n",
       "      <td>2017-06-01 11:01:00</td>\n",
       "      <td>1.67</td>\n",
       "      <td>6481195116107172636</td>\n",
       "    </tr>\n",
       "    <tr>\n",
       "      <th>19</th>\n",
       "      <td>2017-06-01 11:06:00</td>\n",
       "      <td>0.49</td>\n",
       "      <td>7161516173674142289</td>\n",
       "    </tr>\n",
       "  </tbody>\n",
       "</table>\n",
       "</div>"
      ],
      "text/plain": [
       "                buy_ts  revenue                   uid\n",
       "0  2017-06-01 00:10:00    17.00  10329302124590727494\n",
       "1  2017-06-01 00:25:00     0.55  11627257723692907447\n",
       "2  2017-06-01 00:27:00     0.37  17903680561304213844\n",
       "3  2017-06-01 00:29:00     0.55  16109239769442553005\n",
       "4  2017-06-01 07:58:00     0.37  14200605875248379450\n",
       "5  2017-06-01 08:43:00     0.18  10402394430196413321\n",
       "6  2017-06-01 08:54:00     1.83  12464626743129688638\n",
       "7  2017-06-01 09:22:00     1.22   3644482766749211722\n",
       "8  2017-06-01 09:22:00     3.30  17542070709969841479\n",
       "9  2017-06-01 09:23:00     0.37   1074355127080856382\n",
       "10 2017-06-01 09:58:00     2.81  12888070354554424008\n",
       "11 2017-06-01 10:27:00     1.22   4409266971612110231\n",
       "12 2017-06-01 10:33:00     9.78   8635489015105716934\n",
       "13 2017-06-01 10:38:00     1.83   8995168848618027177\n",
       "14 2017-06-01 10:38:00     2.08   2050423809815667474\n",
       "15 2017-06-01 10:43:00     4.15  18335282082749800806\n",
       "16 2017-06-01 10:49:00     7.33   9454788256069675152\n",
       "17 2017-06-01 10:58:00     3.73  11062788618907079633\n",
       "18 2017-06-01 11:01:00     1.67   6481195116107172636\n",
       "19 2017-06-01 11:06:00     0.49   7161516173674142289"
      ]
     },
     "execution_count": 41,
     "metadata": {},
     "output_type": "execute_result"
    }
   ],
   "source": [
    "# Memeriksa tahun yang tersedia\n",
    "orderslog.head(20)"
   ]
  },
  {
   "cell_type": "code",
   "execution_count": 42,
   "metadata": {},
   "outputs": [
    {
     "data": {
      "text/html": [
       "<div>\n",
       "<style scoped>\n",
       "    .dataframe tbody tr th:only-of-type {\n",
       "        vertical-align: middle;\n",
       "    }\n",
       "\n",
       "    .dataframe tbody tr th {\n",
       "        vertical-align: top;\n",
       "    }\n",
       "\n",
       "    .dataframe thead th {\n",
       "        text-align: right;\n",
       "    }\n",
       "</style>\n",
       "<table border=\"1\" class=\"dataframe\">\n",
       "  <thead>\n",
       "    <tr style=\"text-align: right;\">\n",
       "      <th></th>\n",
       "      <th>buy_ts</th>\n",
       "      <th>revenue</th>\n",
       "      <th>uid</th>\n",
       "    </tr>\n",
       "  </thead>\n",
       "  <tbody>\n",
       "    <tr>\n",
       "      <th>50395</th>\n",
       "      <td>2018-05-31 23:01:00</td>\n",
       "      <td>0.24</td>\n",
       "      <td>8971807372263051413</td>\n",
       "    </tr>\n",
       "    <tr>\n",
       "      <th>50396</th>\n",
       "      <td>2018-05-31 23:01:00</td>\n",
       "      <td>1.16</td>\n",
       "      <td>4326846074047313748</td>\n",
       "    </tr>\n",
       "    <tr>\n",
       "      <th>50397</th>\n",
       "      <td>2018-05-31 23:02:00</td>\n",
       "      <td>7.33</td>\n",
       "      <td>10899818686660841329</td>\n",
       "    </tr>\n",
       "    <tr>\n",
       "      <th>50398</th>\n",
       "      <td>2018-05-31 23:03:00</td>\n",
       "      <td>2.75</td>\n",
       "      <td>17036314177686040355</td>\n",
       "    </tr>\n",
       "    <tr>\n",
       "      <th>50399</th>\n",
       "      <td>2018-05-31 23:04:00</td>\n",
       "      <td>7.33</td>\n",
       "      <td>3251741041959686640</td>\n",
       "    </tr>\n",
       "    <tr>\n",
       "      <th>50400</th>\n",
       "      <td>2018-05-31 23:13:00</td>\n",
       "      <td>6.72</td>\n",
       "      <td>11767206187037456942</td>\n",
       "    </tr>\n",
       "    <tr>\n",
       "      <th>50401</th>\n",
       "      <td>2018-05-31 23:14:00</td>\n",
       "      <td>0.30</td>\n",
       "      <td>5877288373018804921</td>\n",
       "    </tr>\n",
       "    <tr>\n",
       "      <th>50402</th>\n",
       "      <td>2018-05-31 23:29:00</td>\n",
       "      <td>2.75</td>\n",
       "      <td>656193162812616454</td>\n",
       "    </tr>\n",
       "    <tr>\n",
       "      <th>50403</th>\n",
       "      <td>2018-05-31 23:30:00</td>\n",
       "      <td>5.50</td>\n",
       "      <td>5300693976971713685</td>\n",
       "    </tr>\n",
       "    <tr>\n",
       "      <th>50404</th>\n",
       "      <td>2018-05-31 23:36:00</td>\n",
       "      <td>0.61</td>\n",
       "      <td>14926823272464019002</td>\n",
       "    </tr>\n",
       "    <tr>\n",
       "      <th>50405</th>\n",
       "      <td>2018-05-31 23:36:00</td>\n",
       "      <td>0.61</td>\n",
       "      <td>1551265230644458155</td>\n",
       "    </tr>\n",
       "    <tr>\n",
       "      <th>50406</th>\n",
       "      <td>2018-05-31 23:40:00</td>\n",
       "      <td>1.16</td>\n",
       "      <td>13121453305610619664</td>\n",
       "    </tr>\n",
       "    <tr>\n",
       "      <th>50407</th>\n",
       "      <td>2018-05-31 23:40:00</td>\n",
       "      <td>2.26</td>\n",
       "      <td>15576344609395725707</td>\n",
       "    </tr>\n",
       "    <tr>\n",
       "      <th>50408</th>\n",
       "      <td>2018-05-31 23:42:00</td>\n",
       "      <td>0.92</td>\n",
       "      <td>15854392578508828030</td>\n",
       "    </tr>\n",
       "    <tr>\n",
       "      <th>50409</th>\n",
       "      <td>2018-05-31 23:43:00</td>\n",
       "      <td>3.67</td>\n",
       "      <td>1805512004303848280</td>\n",
       "    </tr>\n",
       "    <tr>\n",
       "      <th>50410</th>\n",
       "      <td>2018-05-31 23:50:00</td>\n",
       "      <td>4.64</td>\n",
       "      <td>12296626599487328624</td>\n",
       "    </tr>\n",
       "    <tr>\n",
       "      <th>50411</th>\n",
       "      <td>2018-05-31 23:50:00</td>\n",
       "      <td>5.80</td>\n",
       "      <td>11369640365507475976</td>\n",
       "    </tr>\n",
       "    <tr>\n",
       "      <th>50412</th>\n",
       "      <td>2018-05-31 23:54:00</td>\n",
       "      <td>0.30</td>\n",
       "      <td>1786462140797698849</td>\n",
       "    </tr>\n",
       "    <tr>\n",
       "      <th>50413</th>\n",
       "      <td>2018-05-31 23:56:00</td>\n",
       "      <td>3.67</td>\n",
       "      <td>3993697860786194247</td>\n",
       "    </tr>\n",
       "    <tr>\n",
       "      <th>50414</th>\n",
       "      <td>2018-06-01 00:02:00</td>\n",
       "      <td>3.42</td>\n",
       "      <td>83872787173869366</td>\n",
       "    </tr>\n",
       "  </tbody>\n",
       "</table>\n",
       "</div>"
      ],
      "text/plain": [
       "                   buy_ts  revenue                   uid\n",
       "50395 2018-05-31 23:01:00     0.24   8971807372263051413\n",
       "50396 2018-05-31 23:01:00     1.16   4326846074047313748\n",
       "50397 2018-05-31 23:02:00     7.33  10899818686660841329\n",
       "50398 2018-05-31 23:03:00     2.75  17036314177686040355\n",
       "50399 2018-05-31 23:04:00     7.33   3251741041959686640\n",
       "50400 2018-05-31 23:13:00     6.72  11767206187037456942\n",
       "50401 2018-05-31 23:14:00     0.30   5877288373018804921\n",
       "50402 2018-05-31 23:29:00     2.75    656193162812616454\n",
       "50403 2018-05-31 23:30:00     5.50   5300693976971713685\n",
       "50404 2018-05-31 23:36:00     0.61  14926823272464019002\n",
       "50405 2018-05-31 23:36:00     0.61   1551265230644458155\n",
       "50406 2018-05-31 23:40:00     1.16  13121453305610619664\n",
       "50407 2018-05-31 23:40:00     2.26  15576344609395725707\n",
       "50408 2018-05-31 23:42:00     0.92  15854392578508828030\n",
       "50409 2018-05-31 23:43:00     3.67   1805512004303848280\n",
       "50410 2018-05-31 23:50:00     4.64  12296626599487328624\n",
       "50411 2018-05-31 23:50:00     5.80  11369640365507475976\n",
       "50412 2018-05-31 23:54:00     0.30   1786462140797698849\n",
       "50413 2018-05-31 23:56:00     3.67   3993697860786194247\n",
       "50414 2018-06-01 00:02:00     3.42     83872787173869366"
      ]
     },
     "execution_count": 42,
     "metadata": {},
     "output_type": "execute_result"
    }
   ],
   "source": [
    "orderslog.tail(20)"
   ]
  },
  {
   "cell_type": "markdown",
   "metadata": {},
   "source": [
    "**Kesimpulan Sementara**\n",
    "* Dataset diatas merupakan periode waktu 2017 - 2018"
   ]
  },
  {
   "cell_type": "markdown",
   "metadata": {},
   "source": [
    "**Menghitung Jumlah Pesanan Periode 2017**"
   ]
  },
  {
   "cell_type": "code",
   "execution_count": 43,
   "metadata": {
    "collapsed": true
   },
   "outputs": [
    {
     "name": "stdout",
     "output_type": "stream",
     "text": [
      "Jumlah pesanan per hari:\n",
      "buy_ts\n",
      "2017-06-01     96\n",
      "2017-06-02    111\n",
      "2017-06-03     67\n",
      "2017-06-04     66\n",
      "2017-06-05    161\n",
      "2017-06-06    198\n",
      "2017-06-07    197\n",
      "2017-06-08    181\n",
      "2017-06-09    131\n",
      "2017-06-10     42\n",
      "2017-06-11     28\n",
      "2017-06-12     30\n",
      "2017-06-13     60\n",
      "2017-06-14     53\n",
      "2017-06-15     75\n",
      "2017-06-16     70\n",
      "2017-06-17     35\n",
      "2017-06-18     20\n",
      "2017-06-19     45\n",
      "2017-06-20     45\n",
      "2017-06-21     51\n",
      "2017-06-22     63\n",
      "2017-06-23     64\n",
      "2017-06-24     53\n",
      "2017-06-25     50\n",
      "2017-06-26     72\n",
      "2017-06-27     59\n",
      "2017-06-28     80\n",
      "2017-06-29     69\n",
      "2017-06-30     82\n",
      "Name: uid, dtype: int64\n"
     ]
    }
   ],
   "source": [
    "# Filter data berdasarkan periode waktu (misalnya, harian)\n",
    "start_date_2017_day = '2017-06-01 00:00:00'\n",
    "end_date_2017_day = '2017-06-30 23:59:59'\n",
    "\n",
    "filtered_orders_2017 = orderslog[(orderslog['buy_ts'] >= start_date_2017_day) & (orderslog['buy_ts'] <= end_date_2017_day)]\n",
    "\n",
    "# Mengelompokkan data berdasarkan tanggal dan menghitung jumlah pesanan\n",
    "daily_orders_2017 = filtered_orders_2017.groupby(filtered_orders_2017['buy_ts'].dt.date)['uid'].count()\n",
    "\n",
    "# Menampilkan hasil\n",
    "print(\"Jumlah pesanan per hari:\")\n",
    "print(daily_orders_2017)"
   ]
  },
  {
   "cell_type": "code",
   "execution_count": 44,
   "metadata": {
    "scrolled": true
   },
   "outputs": [
    {
     "data": {
      "text/plain": [
       "2354"
      ]
     },
     "execution_count": 44,
     "metadata": {},
     "output_type": "execute_result"
    }
   ],
   "source": [
    "total_orders_2017 = daily_orders_2017.sum()\n",
    "total_orders_2017"
   ]
  },
  {
   "cell_type": "markdown",
   "metadata": {},
   "source": [
    "**Menghitung Jumlah Pesanan Periode 2018**"
   ]
  },
  {
   "cell_type": "code",
   "execution_count": 45,
   "metadata": {
    "collapsed": true
   },
   "outputs": [
    {
     "name": "stdout",
     "output_type": "stream",
     "text": [
      "Jumlah pesanan per hari:\n",
      "buy_ts\n",
      "2018-05-01     51\n",
      "2018-05-02     58\n",
      "2018-05-03     99\n",
      "2018-05-04    107\n",
      "2018-05-05     80\n",
      "2018-05-06     90\n",
      "2018-05-07    117\n",
      "2018-05-08     93\n",
      "2018-05-09     65\n",
      "2018-05-10     99\n",
      "2018-05-11    119\n",
      "2018-05-12     70\n",
      "2018-05-13     72\n",
      "2018-05-14    102\n",
      "2018-05-15    113\n",
      "2018-05-16    159\n",
      "2018-05-17    219\n",
      "2018-05-18    183\n",
      "2018-05-19    113\n",
      "2018-05-20    115\n",
      "2018-05-21    182\n",
      "2018-05-22    168\n",
      "2018-05-23    176\n",
      "2018-05-24    132\n",
      "2018-05-25    160\n",
      "2018-05-26    102\n",
      "2018-05-27    107\n",
      "2018-05-28    188\n",
      "2018-05-29    189\n",
      "2018-05-30    208\n",
      "Name: uid, dtype: int64\n"
     ]
    }
   ],
   "source": [
    "# Filter data berdasarkan periode waktu (misalnya, harian)\n",
    "start_date_2018_day = '2018-05-01 00:00:00'\n",
    "end_date_2018_day = '2018-05-30 23:59:59'\n",
    "\n",
    "filtered_orders_2018 = orderslog[(orderslog['buy_ts'] >= start_date_2018_day) & (orderslog['buy_ts'] <= end_date_2018_day)]\n",
    "\n",
    "# Mengelompokkan data berdasarkan tanggal dan menghitung jumlah pesanan\n",
    "daily_orders_2018 = filtered_orders_2018.groupby(filtered_orders_2018['buy_ts'].dt.date)['uid'].count()\n",
    "\n",
    "# Menampilkan hasil\n",
    "print(\"Jumlah pesanan per hari:\")\n",
    "print(daily_orders_2018)"
   ]
  },
  {
   "cell_type": "code",
   "execution_count": 46,
   "metadata": {},
   "outputs": [
    {
     "data": {
      "text/plain": [
       "3736"
      ]
     },
     "execution_count": 46,
     "metadata": {},
     "output_type": "execute_result"
    }
   ],
   "source": [
    "total_orders_2018 = daily_orders_2018.sum()\n",
    "total_orders_2018"
   ]
  },
  {
   "cell_type": "markdown",
   "metadata": {},
   "source": [
    "**Kesimpulan Sementara**\n",
    "\n",
    "* Jumlah pesanan yang dicapai 2018 lebih besar dari 2017."
   ]
  },
  {
   "cell_type": "markdown",
   "metadata": {},
   "source": [
    "**Berapa Besaran Rata-Rata Pembeliannya?**\n",
    "\n",
    "* Kita akan menghitung per periode berapa revenue rata-rata"
   ]
  },
  {
   "cell_type": "code",
   "execution_count": 47,
   "metadata": {},
   "outputs": [
    {
     "name": "stdout",
     "output_type": "stream",
     "text": [
      "Besaran rata-rata pembelian : 4.999646930477041\n",
      "Besaran rata-rata pembelian tahun 2017: 5.120598536425528\n",
      "Besaran rata-rata pembelian tahun 2018: 4.8548771134739415\n"
     ]
    }
   ],
   "source": [
    "# Filter data berdasarkan tahun pembelian\n",
    "orders_2017 = orderslog[orderslog['buy_ts'].dt.year == 2017]\n",
    "orders_2018 = orderslog[orderslog['buy_ts'].dt.year == 2018]\n",
    "\n",
    "# Hitung rata-rata pembelian untuk tahun 2017 dan 2018\n",
    "average_purchase_2017 = orders_2017['revenue'].mean()\n",
    "average_purchase_2018 = orders_2018['revenue'].mean()\n",
    "average_purchase = orderslog['revenue'].mean()\n",
    "\n",
    "print(\"Besaran rata-rata pembelian :\", average_purchase)\n",
    "print(\"Besaran rata-rata pembelian tahun 2017:\", average_purchase_2017)\n",
    "print(\"Besaran rata-rata pembelian tahun 2018:\", average_purchase_2018)"
   ]
  },
  {
   "cell_type": "markdown",
   "metadata": {},
   "source": [
    "**Kesimpulan Sementara**\n",
    "\n",
    "* Rata-rata pembelian tahun 2017 lebih besar dari tahun 2018."
   ]
  },
  {
   "cell_type": "markdown",
   "metadata": {},
   "source": [
    "**Berapa Jumlah Uang yang Mereka Kontribusikan? (LTV)**\n",
    "\n",
    "Kita akan melakukan jumlah LTV dengan cara total_revenue dibagi dengan total_customers"
   ]
  },
  {
   "cell_type": "code",
   "execution_count": 48,
   "metadata": {},
   "outputs": [
    {
     "name": "stdout",
     "output_type": "stream",
     "text": [
      "Lifetime Value (LTV) dari seluruh pelanggan: 6.9013279303452615\n"
     ]
    }
   ],
   "source": [
    "# Hitung total pendapatan dari seluruh pelanggan\n",
    "total_revenue = orderslog['revenue'].sum()\n",
    "\n",
    "# Hitung jumlah pelanggan unik\n",
    "total_customers = orderslog['uid'].nunique()\n",
    "\n",
    "# Hitung Lifetime Value (LTV)\n",
    "ltv = total_revenue / total_customers\n",
    "\n",
    "\n",
    "\n",
    "print(\"Lifetime Value (LTV) dari seluruh pelanggan:\", ltv)"
   ]
  },
  {
   "cell_type": "markdown",
   "metadata": {},
   "source": [
    "**Kesimpulan Sementara**\n",
    "\n",
    "* Lifetime Value (LTV) dari seluruh pelanggan: 6.9013279303452615"
   ]
  },
  {
   "cell_type": "markdown",
   "metadata": {},
   "source": [
    " *  **4.3. Pemasaran**\n",
    " \n",
    " *    Di sini kita akan menentukan jumlah uang yang dihabiskan, CaC(Customer Acquisition Cost), dan ROI(Return of Investment)"
   ]
  },
  {
   "cell_type": "markdown",
   "metadata": {},
   "source": [
    "**Berapa Jumlah Uang yang Dihabiskan? (keseluruhan/per sumber/dari waktu ke waktu)**"
   ]
  },
  {
   "cell_type": "code",
   "execution_count": 49,
   "metadata": {},
   "outputs": [
    {
     "name": "stdout",
     "output_type": "stream",
     "text": [
      "<class 'pandas.core.frame.DataFrame'>\n",
      "RangeIndex: 2542 entries, 0 to 2541\n",
      "Data columns (total 3 columns):\n",
      " #   Column     Non-Null Count  Dtype         \n",
      "---  ------     --------------  -----         \n",
      " 0   source_id  2542 non-null   int64         \n",
      " 1   dt         2542 non-null   datetime64[ns]\n",
      " 2   costs      2542 non-null   float64       \n",
      "dtypes: datetime64[ns](1), float64(1), int64(1)\n",
      "memory usage: 59.7 KB\n"
     ]
    }
   ],
   "source": [
    "# Informasi dataset\n",
    "costs_us.info()"
   ]
  },
  {
   "cell_type": "code",
   "execution_count": 50,
   "metadata": {},
   "outputs": [
    {
     "name": "stdout",
     "output_type": "stream",
     "text": [
      "Jumlah uang yang dihabiskan per sumber:\n",
      "source_id\n",
      "1      20833.27\n",
      "2      42806.04\n",
      "3     141321.63\n",
      "4      61073.60\n",
      "5      51757.10\n",
      "9       5517.49\n",
      "10      5822.49\n",
      "Name: costs, dtype: float64\n",
      "==========================================================\n",
      "Total uang yang dihabiskan secara keseluruhan: 329131.62\n"
     ]
    }
   ],
   "source": [
    "# Menghitung jumlah keseluruhan, sumber \n",
    "total_costs = costs_us['costs'].sum()\n",
    "costs_per_source = costs_us.groupby('source_id')['costs'].sum()\n",
    "print(\"Jumlah uang yang dihabiskan per sumber:\")\n",
    "print(costs_per_source)\n",
    "print('==========================================================')\n",
    "print(\"Total uang yang dihabiskan secara keseluruhan:\", total_costs)"
   ]
  },
  {
   "cell_type": "code",
   "execution_count": 51,
   "metadata": {},
   "outputs": [],
   "source": [
    "costs_us['week'] = costs_us['dt'].dt.isocalendar().week\n",
    "costs_us['month'] = costs_us['dt'].dt.month\n",
    "costs_us['year'] = costs_us['dt'].dt.year"
   ]
  },
  {
   "cell_type": "code",
   "execution_count": 52,
   "metadata": {},
   "outputs": [],
   "source": [
    "weekly_costs = costs_us.groupby(['year', 'week'])['costs'].sum()\n",
    "monthly_costs = costs_us.groupby(['year', 'month'])['costs'].sum()\n",
    "yearly_costs = costs_us.groupby('year')['costs'].sum()"
   ]
  },
  {
   "cell_type": "code",
   "execution_count": 1,
   "metadata": {},
   "outputs": [],
   "source": [
    "weekly_costs "
   ]
  },
  {
   "cell_type": "code",
   "execution_count": 54,
   "metadata": {},
   "outputs": [
    {
     "data": {
      "text/plain": [
       "Text(0.5, 0, 'Total Costs')"
      ]
     },
     "execution_count": 54,
     "metadata": {},
     "output_type": "execute_result"
    },
    {
     "data": {
      "image/png": "[encoded data removed]",
      "text/plain": [
       "<Figure size 2160x432 with 1 Axes>"
      ]
     },
     "metadata": {
      "needs_background": "light"
     },
     "output_type": "display_data"
    }
   ],
   "source": [
    "# Visualisasi data mingguan\n",
    "plt.figure(figsize=(30, 6))\n",
    "plt.subplot(131)\n",
    "\n",
    "# Pilih skema warna menggunakan seaborn\n",
    "colors = sns.color_palette(\"coolwarm\", 10)\n",
    "weekly_costs.nlargest(10).sort_index(ascending = False).plot(kind='barh', title='Top 10 Weekly Costs', color=colors)\n",
    "plt.ylabel('Year and Week')\n",
    "plt.xlabel('Total Costs')"
   ]
  },
  {
   "cell_type": "code",
   "execution_count": 55,
   "metadata": {},
   "outputs": [
    {
     "data": {
      "text/plain": [
       "year  month\n",
       "2017  6        18015.00\n",
       "      7        18240.59\n",
       "      8        14790.54\n",
       "      9        24368.91\n",
       "      10       36322.88\n",
       "      11       37907.88\n",
       "      12       38315.35\n",
       "2018  1        33518.52\n",
       "      2        32723.03\n",
       "      3        30415.27\n",
       "      4        22289.38\n",
       "      5        22224.27\n",
       "Name: costs, dtype: float64"
      ]
     },
     "execution_count": 55,
     "metadata": {},
     "output_type": "execute_result"
    }
   ],
   "source": [
    "monthly_costs"
   ]
  },
  {
   "cell_type": "code",
   "execution_count": 56,
   "metadata": {},
   "outputs": [
    {
     "data": {
      "text/plain": [
       "Text(0.5, 0, 'Total Costs')"
      ]
     },
     "execution_count": 56,
     "metadata": {},
     "output_type": "execute_result"
    },
    {
     "data": {
      "image/png": "[encoded data removed]",
      "text/plain": [
       "<Figure size 2160x432 with 1 Axes>"
      ]
     },
     "metadata": {
      "needs_background": "light"
     },
     "output_type": "display_data"
    }
   ],
   "source": [
    "# Visualisasi data bulanan \n",
    "plt.figure(figsize=(30, 6))\n",
    "plt.subplot(132)\n",
    "\n",
    "# Pilih skema warna menggunakan seaborn\n",
    "colors = sns.color_palette(\"coolwarm\", 10)\n",
    "monthly_costs.nlargest(10).sort_index(ascending=False).plot(kind='barh', title='Top 10 Monthly Costs', color=colors)\n",
    "plt.ylabel('Year and Month')\n",
    "plt.xlabel('Total Costs')"
   ]
  },
  {
   "cell_type": "code",
   "execution_count": 57,
   "metadata": {},
   "outputs": [
    {
     "data": {
      "text/plain": [
       "year\n",
       "2017    187961.15\n",
       "2018    141170.47\n",
       "Name: costs, dtype: float64"
      ]
     },
     "execution_count": 57,
     "metadata": {},
     "output_type": "execute_result"
    }
   ],
   "source": [
    "yearly_costs"
   ]
  },
  {
   "cell_type": "code",
   "execution_count": 58,
   "metadata": {},
   "outputs": [
    {
     "data": {
      "text/plain": [
       "Text(0.5, 0, 'Total Costs')"
      ]
     },
     "execution_count": 58,
     "metadata": {},
     "output_type": "execute_result"
    },
    {
     "data": {
      "image/png": "[encoded data removed]",
      "text/plain": [
       "<Figure size 2160x432 with 1 Axes>"
      ]
     },
     "metadata": {
      "needs_background": "light"
     },
     "output_type": "display_data"
    }
   ],
   "source": [
    "# Visualisasi data tahunan \n",
    "plt.figure(figsize=(30, 6))\n",
    "plt.subplot(133)\n",
    "\n",
    "# Pilih skema warna menggunakan seaborn\n",
    "colors = sns.color_palette(\"plasma\", 10)\n",
    "yearly_costs.sort_index(ascending=False).plot(kind='barh', title='Yearly Costs', color=colors)\n",
    "plt.ylabel('Year')\n",
    "plt.xlabel('Total Costs')"
   ]
  },
  {
   "cell_type": "markdown",
   "metadata": {},
   "source": [
    "**Kesimpulan Sementara**\n",
    "\n",
    "* Banyak total uang yang dihabiskan berada pada tahun 2017."
   ]
  },
  {
   "cell_type": "markdown",
   "metadata": {},
   "source": [
    "**Berapa Biaya Akuisisi Pelanggan dari Masing-Masing Sumber? (CaC)**\n",
    "\n",
    "* CaC dari masing-masing sumber pemasaran dengan menggabungkan dataset `orderslog` dan `costs_us`.  "
   ]
  },
  {
   "cell_type": "code",
   "execution_count": 59,
   "metadata": {},
   "outputs": [],
   "source": [
    "# Ekstrak tahun dan bulan dari kolom 'buy_ts'\n",
    "orderslog['year'] = orderslog['buy_ts'].dt.year\n",
    "orderslog['month'] = orderslog['buy_ts'].dt.month\n",
    "\n",
    "# Gabungkan dataset orders_log dan costs_us berdasarkan tahun dan bulan\n",
    "merged_data_cac = pd.merge(orderslog, costs_us, how='inner', on=['year', 'month'])\n",
    "\n",
    "# Menghitung total biaya pemasaran per sumber\n",
    "cac_by_source = merged_data_cac.groupby('source_id')['costs'].sum()\n",
    "\n",
    "# Menghitung jumlah pelanggan yang diakuisisi per sumber\n",
    "customers_acquired_by_source = merged_data_cac.groupby('source_id')['uid'].nunique()\n",
    "\n",
    "# Menghitung CaC per sumber\n",
    "cac_by_source = cac_by_source / customers_acquired_by_source"
   ]
  },
  {
   "cell_type": "code",
   "execution_count": 60,
   "metadata": {},
   "outputs": [
    {
     "data": {
      "text/plain": [
       "source_id\n",
       "1      2636.945842\n",
       "2      5422.036466\n",
       "3     17901.711152\n",
       "4      7582.534279\n",
       "5      6543.035549\n",
       "9       698.542467\n",
       "10      735.368479\n",
       "dtype: float64"
      ]
     },
     "execution_count": 60,
     "metadata": {},
     "output_type": "execute_result"
    }
   ],
   "source": [
    "cac_by_source"
   ]
  },
  {
   "cell_type": "code",
   "execution_count": 61,
   "metadata": {},
   "outputs": [
    {
     "data": {
      "image/png": "[encoded data removed]",
      "text/plain": [
       "<Figure size 720x432 with 1 Axes>"
      ]
     },
     "metadata": {
      "needs_background": "light"
     },
     "output_type": "display_data"
    }
   ],
   "source": [
    "# Data CaC per sumber\n",
    "cac_by_source = {\n",
    "    1: 2636.945842,\n",
    "    2: 5422.036466,\n",
    "    3: 17901.711152,\n",
    "    4: 7582.534279,\n",
    "    5: 6543.035549,\n",
    "    9: 698.542467,\n",
    "    10: 735.368479\n",
    "}\n",
    "\n",
    "# Membuat DataFrame dari data CaC\n",
    "cac_df = pd.DataFrame(list(cac_by_source.items()), columns=['source_id', 'CaC'])\n",
    "\n",
    "# Membuat visualisasi barplot\n",
    "plt.figure(figsize=(10, 6))\n",
    "colors = sns.color_palette(\"coolwarm\", len(cac_df))\n",
    "sns.barplot(data=cac_df, x='source_id', y='CaC', palette=colors)\n",
    "plt.title('Customer Acquisition Cost (CaC) per Source')\n",
    "plt.xlabel('Source ID')\n",
    "plt.ylabel('CaC')\n",
    "plt.xticks(rotation=0)\n",
    "\n",
    "# Menampilkan visualisasi\n",
    "plt.show()"
   ]
  },
  {
   "cell_type": "markdown",
   "metadata": {},
   "source": [
    "**Kesimpulan Sementara**\n",
    "\n",
    "Source ID 3 memiliki CaC sangat tinggi. Hal ini kurang baik karena Customer Acquisition Cost yaitu digunakan untuk rata-rata yang digunakan untuk melakukan akuisisi per customer. Semakin kecil maka semakin baik."
   ]
  },
  {
   "cell_type": "markdown",
   "metadata": {},
   "source": [
    "**Seberapa Menguntungkannya Investasi Tersebut? (ROI)**\n",
    "\n",
    "* Dari sini kita akan menentukan apakah Return on Investment berada di titik positif atau negatif."
   ]
  },
  {
   "cell_type": "code",
   "execution_count": 62,
   "metadata": {},
   "outputs": [
    {
     "name": "stdout",
     "output_type": "stream",
     "text": [
      "ROI (Return on Investment): -23.42%\n"
     ]
    }
   ],
   "source": [
    "# Total Pendapatan (Total Revenue)\n",
    "total_revenue = orderslog['revenue'].sum()\n",
    "\n",
    "# Total Biaya Akuisisi Pelanggan (Total CaC) per sumber\n",
    "total_cac_by_source = costs_us.groupby('source_id')['costs'].sum()\n",
    "\n",
    "# Total Biaya Akuisisi Pelanggan (Total CaC)\n",
    "total_cac = total_cac_by_source.sum()\n",
    "\n",
    "# Menghitung ROI\n",
    "roi = ((total_revenue - total_cac) / total_cac) * 100\n",
    "\n",
    "print(f'ROI (Return on Investment): {roi:.2f}%')"
   ]
  },
  {
   "cell_type": "markdown",
   "metadata": {},
   "source": [
    "**Kesimpulan**\n",
    "\n",
    "Return on Investment masih belum balik modal. Hal ini ROI yang dihasilkan yaitu -23.42%."
   ]
  },
  {
   "cell_type": "markdown",
   "metadata": {},
   "source": [
    "## Kesimpulan Umum"
   ]
  },
  {
   "cell_type": "markdown",
   "metadata": {},
   "source": [
    "* Dataset ini merupakan periode waktu 2017 - 2018.\n",
    "* Jumlah pesanan yang dicapai 2018 lebih besar dari 2017.\n",
    "* Rata-rata pembelian tahun 2017 lebih besar dari tahun 2018.\n",
    "* Lifetime Value (LTV) dari seluruh pelanggan: 6.9013279303452615.\n",
    "* Banyak total uang yang dihabiskan berada pada tahun 2017.\n",
    "* Beberapa tipe data dan penulisan kolom dan tipe data harus kita ubah agar mudah untuk dipanggil dan berjaga-jaga agar kita tidak harus memeriksa ulang/implementasi ulang untuk kepentingan analisis.\n",
    "* Puncak pengguna unik pada yang tertinggi berada di tanggal 24. Untuk pengguna unik mingguan, pada minggu ke 47 merupakan puncak tertinggi. Untuk pengguna bulanan, puncak jumlah pengguna unik berada di bulan 11.\n",
    "* Untuk kategori terendah, pada bagian hari, tanggal 31 bulan 03 tidak ada pengguna sama sekali. Pada bagian mingguan, tepat di minggu ke 31 pengguna mencapai kurang dari 3000. Pada bagian bulanan tepat di bulan 8, pengguna mencapai dibawah 20000\n",
    "* Pada tanggal 24 bulan 11 tahun 2017, pengguna tertinggi mencapai lebih dari 4000.\n",
    "* Kita tidak memiliki data yang kosong ataupun yang hilang. Bisa kita lihat bahwa pada tanggal 31 bulan 03 tahun 2018. Terdapat irisan yang sangat kecil yang berarti hanya ada beberapa pengguna saja yang aktif di hari tersebut. Hari berikutnya tercatat berada di titik di atas 100 pengguna.\n",
    "* Besar sesi yang kita miliki bisa saja pengguna dalam keadaan idle sehingga tidak melakukan aktivitas apapun.\n",
    "* Session Durasi 1 Menit: Session dengan durasi sekitar 1 menit mungkin menunjukkan bahwa pengguna hanya mengunjungi situs web atau aplikasi untuk waktu singkat dan kemudian keluar. Ini bisa jadi tanda bahwa pengguna tidak menemukan konten atau pengalaman yang menarik, atau mungkin mereka hanya mencari informasi singkat. Dalam hal ini, kita mungkin ingin mempertimbangkan untuk memperbaiki pengalaman pengguna atau mengevaluasi halaman yang kurang menarik.\n",
    "* Interpretasi dari kolom time_to_conversion adalah selisih waktu dalam hari antara tanggal kunjungan pertama (start_ts) dan tanggal pembelian pertama (buy_ts) untuk setiap pengguna.\n",
    "* Nilai 0 dalam kolom time_to_conversion, itu berarti bahwa pengguna tersebut telah melakukan konversi pada hari yang sama dengan pendaftaran atau sesi pertamanya. Dalam konteks analisis konversi, ini bisa diinterpretasikan sebagai konversi \"seketika\" di mana pengguna secara praktis menjadi pelanggan atau melakukan transaksi pada saat yang sama ketika mereka pertama kali mengunjungi atau mendaftar.\n",
    "* Source ID 3 memiliki CaC sangat tinggi. Hal ini kurang baik karena Customer Acquisition Cost yaitu digunakan untuk rata-rata yang digunakan untuk melakukan akuisisi per customer. Semakin kecil maka semakin baik."
   ]
  }
 ],
 "metadata": {
  "kernelspec": {
   "display_name": "Python 3 (ipykernel)",
   "language": "python",
   "name": "python3"
  },
  "language_info": {
   "codemirror_mode": {
    "name": "ipython",
    "version": 3
   },
   "file_extension": ".py",
   "mimetype": "text/x-python",
   "name": "python",
   "nbconvert_exporter": "python",
   "pygments_lexer": "ipython3",
   "version": "3.9.19"
  },
  "toc": {
   "base_numbering": 1,
   "nav_menu": {},
   "number_sections": true,
   "sideBar": true,
   "skip_h1_title": true,
   "title_cell": "Table of Contents",
   "title_sidebar": "Contents",
   "toc_cell": false,
   "toc_position": {},
   "toc_section_display": true,
   "toc_window_display": false
  }
 },
 "nbformat": 4,
 "nbformat_minor": 2
}
